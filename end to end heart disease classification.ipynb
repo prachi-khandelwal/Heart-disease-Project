{
 "cells": [
  {
   "cell_type": "markdown",
   "metadata": {},
   "source": [
    "# Predicting heart disease using machine learing\n",
    "This notebook looks into various Python based machine learning and data-science\n",
    "libraries in an attempt to build a machine learning model capable of predicting whether or not someone has heart disease based on their medical attributes\n",
    "\n",
    "We're going to take the following approach:\n",
    "1. Problem Defination\n",
    "2. Data \n",
    "3. Evaluation\n",
    "4. Features\n",
    "5. Modelling\n",
    "6. Experimenting\n",
    "\n",
    "## 1. Problem Defination \n",
    "In a statement ,\n",
    "> Given clinical parameters about a patients,  can we predict whether or not they have heart disease?\n",
    "\n",
    "## 2. Data\n",
    "\n",
    "The original data came from the Clevaland data fron the UCI Machine Learning  Repository.\n",
    "\n",
    "## 3. Evaluation\n",
    "\n",
    "> If we can reach 95% accuracy at predicting at  predicting whether or not a patient has heart disease during the proof of concept, we'll pursue the project.\n",
    "\n",
    "## 4. Features\n",
    "The dataset consists of 303 individuals data. There are 14 columns in the dataset, which are described below.\n",
    "\n",
    "1. `Age`: displays the age of the individual.\n",
    "2. `Sex`: displays the gender of the individual using the following format :\n",
    "    1 = male\n",
    "    0 = female\n",
    "3. `Chest-pain type`: displays the type of chest-pain experienced by the       individual using the following format :\n",
    "    * 1 = typical angina\n",
    "    * 2 = atypical angina\n",
    "    * 3 = non — anginal pain\n",
    "    * 4 = asymptotic\n",
    "4. `Resting Blood Pressure`: displays the resting blood pressure value of an   individual in mmHg (unit)\n",
    "5. `Serum Cholestrol`: displays the serum cholesterol in mg/dl (unit)\n",
    "6. Fasting Blood Sugar`: compares the fasting blood sugar value of an individual  with 120mg/dl.\n",
    "    If fasting blood sugar > 120mg/dl then :\n",
    "    * 1 (true)\n",
    "    else :\n",
    "    * 0 (false)\n",
    "7. `Resting ECG` : displays resting electrocardiographic results\n",
    "    * 0 = normal\n",
    "    * 1 = having ST-T wave abnormality\n",
    "    * 2 = left ventricular hyperthrophy\n",
    "8. `Max heart rate achieved` : displays the max heart rate achieved by an individual.\n",
    "9. `Exercise induced angina` :\n",
    "    * 1 = yes\n",
    "    * 0 = no\n",
    "10. `ST depression induced by exercise relative to rest`: displays the value which is an integer or float.\n",
    "11. `Peak exercise ST segment` :\n",
    "    1 = upsloping\n",
    "    2 = flat\n",
    "    3 = downsloping\n",
    "12. `Number of major vessels (0–3) colored by flourosopy` : displays the value as integer or float.\n",
    "13. `Thal` : displays the thalassemia :\n",
    "    * 3 = normal\n",
    "    * 6 = fixed defect\n",
    "    * 7 = reversible defect\n",
    "14. `Diagnosis of heart disease` : Displays whether the individual is suffering from heart disease or not :\n",
    "    0 = absence\n",
    "    1, 2, 3, 4 = present.\n"
   ]
  },
  {
   "cell_type": "markdown",
   "metadata": {},
   "source": [
    "### Preparing the tool\n",
    "we're going to import pandas, numpy, matplotlib, scikit-learn"
   ]
  },
  {
   "cell_type": "code",
   "execution_count": 1,
   "metadata": {},
   "outputs": [],
   "source": [
    "## Import all the tools we need\n",
    "\n",
    "# Regular EDA(exploratory data analysis) and plotting libraries\n",
    "import numpy as np \n",
    "import pandas as pd\n",
    "import matplotlib.pyplot as plt\n",
    "import seaborn as sns\n",
    "\n",
    "%matplotlib inline\n",
    "\n",
    "#Models from scikit-learn \n",
    "from sklearn.linear_model import LogisticRegression\n",
    "from sklearn.neighbors import KNeighborsClassifier\n",
    "from sklearn.ensemble import RandomForestClassifier\n",
    "\n",
    "#Model Evaluations\n",
    "from sklearn.model_selection import train_test_split, cross_val_score\n",
    "from sklearn.model_selection import RandomizedSearchCV, GridSearchCV\n",
    "from sklearn.metrics import classification_report, confusion_matrix\n",
    "from sklearn.metrics import precision_score, recall_score, f1_score\n",
    "from sklearn.metrics import plot_roc_curve"
   ]
  },
  {
   "cell_type": "markdown",
   "metadata": {},
   "source": [
    "### Load data"
   ]
  },
  {
   "cell_type": "code",
   "execution_count": 2,
   "metadata": {},
   "outputs": [
    {
     "data": {
      "text/plain": [
       "(303, 14)"
      ]
     },
     "execution_count": 2,
     "metadata": {},
     "output_type": "execute_result"
    }
   ],
   "source": [
    "df = pd.read_csv('heart-disease.csv')\n",
    "df.shape"
   ]
  },
  {
   "cell_type": "markdown",
   "metadata": {},
   "source": [
    "## Data Exploration (Exploratory Data Analysis or EDA)\n",
    "The goal here is to find out more about data and become the subject matter export on the datasets you're working with\n",
    "\n",
    "1. What question(s) are you trying to solve?\n",
    "2. What kind of data do we have and how do we treat different types?\n",
    "3. What's missing from the data and how do we deal with it?\n",
    "4. Where are the outliers and how should we care about them?\n",
    "5. How can we add, check and remove features to get more with our data?"
   ]
  },
  {
   "cell_type": "code",
   "execution_count": 3,
   "metadata": {},
   "outputs": [
    {
     "data": {
      "text/plain": [
       "1    165\n",
       "0    138\n",
       "Name: target, dtype: int64"
      ]
     },
     "execution_count": 3,
     "metadata": {},
     "output_type": "execute_result"
    }
   ],
   "source": [
    "df.target.value_counts()"
   ]
  },
  {
   "cell_type": "code",
   "execution_count": 4,
   "metadata": {},
   "outputs": [
    {
     "data": {
      "image/png": "[encoded data removed]",
      "text/plain": [
       "<Figure size 432x288 with 1 Axes>"
      ]
     },
     "metadata": {
      "needs_background": "light"
     },
     "output_type": "display_data"
    }
   ],
   "source": [
    "df['target'].value_counts().plot(kind='bar',color=['salmon','pink']);"
   ]
  },
  {
   "cell_type": "code",
   "execution_count": 5,
   "metadata": {},
   "outputs": [
    {
     "name": "stdout",
     "output_type": "stream",
     "text": [
      "<class 'pandas.core.frame.DataFrame'>\n",
      "RangeIndex: 303 entries, 0 to 302\n",
      "Data columns (total 14 columns):\n",
      " #   Column    Non-Null Count  Dtype  \n",
      "---  ------    --------------  -----  \n",
      " 0   age       303 non-null    int64  \n",
      " 1   sex       303 non-null    int64  \n",
      " 2   cp        303 non-null    int64  \n",
      " 3   trestbps  303 non-null    int64  \n",
      " 4   chol      303 non-null    int64  \n",
      " 5   fbs       303 non-null    int64  \n",
      " 6   restecg   303 non-null    int64  \n",
      " 7   thalach   303 non-null    int64  \n",
      " 8   exang     303 non-null    int64  \n",
      " 9   oldpeak   303 non-null    float64\n",
      " 10  slope     303 non-null    int64  \n",
      " 11  ca        303 non-null    int64  \n",
      " 12  thal      303 non-null    int64  \n",
      " 13  target    303 non-null    int64  \n",
      "dtypes: float64(1), int64(13)\n",
      "memory usage: 33.3 KB\n"
     ]
    }
   ],
   "source": [
    "df.info()"
   ]
  },
  {
   "cell_type": "code",
   "execution_count": 6,
   "metadata": {},
   "outputs": [
    {
     "data": {
      "text/plain": [
       "age         0\n",
       "sex         0\n",
       "cp          0\n",
       "trestbps    0\n",
       "chol        0\n",
       "fbs         0\n",
       "restecg     0\n",
       "thalach     0\n",
       "exang       0\n",
       "oldpeak     0\n",
       "slope       0\n",
       "ca          0\n",
       "thal        0\n",
       "target      0\n",
       "dtype: int64"
      ]
     },
     "execution_count": 6,
     "metadata": {},
     "output_type": "execute_result"
    }
   ],
   "source": [
    "#Are there any missing value?\n",
    "df.isna().sum()"
   ]
  },
  {
   "cell_type": "markdown",
   "metadata": {},
   "source": [
    "### heart disease frequency according to sex"
   ]
  },
  {
   "cell_type": "code",
   "execution_count": 7,
   "metadata": {},
   "outputs": [
    {
     "data": {
      "text/plain": [
       "1    207\n",
       "0     96\n",
       "Name: sex, dtype: int64"
      ]
     },
     "execution_count": 7,
     "metadata": {},
     "output_type": "execute_result"
    }
   ],
   "source": [
    "df.sex.value_counts()"
   ]
  },
  {
   "cell_type": "code",
   "execution_count": 8,
   "metadata": {},
   "outputs": [
    {
     "data": {
      "text/plain": [
       "Text(0.5, 1.0, 'Heart Disease Frequency for sex')"
      ]
     },
     "execution_count": 8,
     "metadata": {},
     "output_type": "execute_result"
    },
    {
     "data": {
      "image/png": "[encoded data removed]",
      "text/plain": [
       "<Figure size 432x288 with 1 Axes>"
      ]
     },
     "metadata": {
      "needs_background": "light"
     },
     "output_type": "display_data"
    }
   ],
   "source": [
    "#Compare target column with sex column\n",
    "pd.crosstab(df.sex,df.target)\n",
    "\n",
    "#Plotting the data\n",
    "pd.crosstab(df.target,df.sex).plot(kind='bar',color=['salmon','lightblue'])\n",
    "plt.xlabel(\"0 = No-Disease, 1 = Disease\")\n",
    "plt.ylabel(\"Amount\")\n",
    "plt.legend([\"Female\",\"Male\"])\n",
    "plt.xticks(rotation=0);\n",
    "plt.title(\"Heart Disease Frequency for sex\")"
   ]
  },
  {
   "cell_type": "markdown",
   "metadata": {},
   "source": [
    "### Comparing Age vs Max HeartBeat(thalach)"
   ]
  },
  {
   "cell_type": "code",
   "execution_count": 9,
   "metadata": {},
   "outputs": [
    {
     "data": {
      "image/png": "[encoded data removed]",
      "text/plain": [
       "<Figure size 720x432 with 1 Axes>"
      ]
     },
     "metadata": {
      "needs_background": "light"
     },
     "output_type": "display_data"
    }
   ],
   "source": [
    "#Create the figure\n",
    "plt.figure(figsize=(10,6))\n",
    "\n",
    "#Comparing the positives\n",
    "plt.scatter(df.age[df.target==1],df.thalach[df.target==1],c='salmon');\n",
    "\n",
    "#Comapring the negetives\n",
    "plt.scatter(df.age[df.target==0],df.thalach[df.target==0],c='lightblue');\n",
    "\n",
    "\n",
    "#Add some helpful info\n",
    "plt.title(\"Heart disease in function of age and thalach\")\n",
    "plt.xlabel(\"AGE\")\n",
    "plt.ylabel(\"HeartBeat\")\n",
    "plt.legend(['Heart-disease',\"No Heart-disease\"]);"
   ]
  },
  {
   "cell_type": "code",
   "execution_count": 10,
   "metadata": {},
   "outputs": [
    {
     "data": {
      "image/png": "[encoded data removed]",
      "text/plain": [
       "<Figure size 432x288 with 1 Axes>"
      ]
     },
     "metadata": {
      "needs_background": "light"
     },
     "output_type": "display_data"
    }
   ],
   "source": [
    "#Let's check the distributionof age \n",
    "df.age.plot.hist();"
   ]
  },
  {
   "cell_type": "markdown",
   "metadata": {},
   "source": [
    "### Heart Disease Frequency per chest pain type"
   ]
  },
  {
   "cell_type": "code",
   "execution_count": 11,
   "metadata": {},
   "outputs": [
    {
     "data": {
      "text/plain": [
       "0    143\n",
       "2     87\n",
       "1     50\n",
       "3     23\n",
       "Name: cp, dtype: int64"
      ]
     },
     "execution_count": 11,
     "metadata": {},
     "output_type": "execute_result"
    }
   ],
   "source": [
    "df.cp.value_counts()"
   ]
  },
  {
   "cell_type": "markdown",
   "metadata": {},
   "source": [
    "* 0 = typical angina\n",
    "* 1 = atypical angina\n",
    "* 2 = non — anginal pain\n",
    "* 3 = asymptotic"
   ]
  },
  {
   "cell_type": "code",
   "execution_count": 12,
   "metadata": {},
   "outputs": [
    {
     "data": {
      "image/png": "[encoded data removed]",
      "text/plain": [
       "<Figure size 432x288 with 1 Axes>"
      ]
     },
     "metadata": {
      "needs_background": "light"
     },
     "output_type": "display_data"
    }
   ],
   "source": [
    "pd.crosstab(df.cp,df.target).plot.bar();\n",
    "\n",
    "#Help info\n",
    "plt.xlabel(\"ChestPain type\")\n",
    "plt.ylabel('Amount');\n",
    "plt.xticks(rotation=0);"
   ]
  },
  {
   "cell_type": "code",
   "execution_count": 13,
   "metadata": {},
   "outputs": [
    {
     "data": {
      "image/png": "[encoded data removed]",
      "text/plain": [
       "<Figure size 1080x720 with 2 Axes>"
      ]
     },
     "metadata": {
      "needs_background": "light"
     },
     "output_type": "display_data"
    }
   ],
   "source": [
    "#let's make coorelation matrix \n",
    "matrix = df.corr()\n",
    "\n",
    "#Let's make it prettier\n",
    "fig, ax = plt.subplots(figsize=(15,10));\n",
    "ax = sns.heatmap(matrix,\n",
    "            cmap=\"YlGnBu\",\n",
    "            linewidths='1',\n",
    "            fmt='.2f',\n",
    "            annot=True)\n"
   ]
  },
  {
   "cell_type": "markdown",
   "metadata": {},
   "source": [
    "# Modelling\n",
    "\n",
    "\n"
   ]
  },
  {
   "cell_type": "code",
   "execution_count": 14,
   "metadata": {},
   "outputs": [
    {
     "data": {
      "text/html": [
       "<div>\n",
       "<style scoped>\n",
       "    .dataframe tbody tr th:only-of-type {\n",
       "        vertical-align: middle;\n",
       "    }\n",
       "\n",
       "    .dataframe tbody tr th {\n",
       "        vertical-align: top;\n",
       "    }\n",
       "\n",
       "    .dataframe thead th {\n",
       "        text-align: right;\n",
       "    }\n",
       "</style>\n",
       "<table border=\"1\" class=\"dataframe\">\n",
       "  <thead>\n",
       "    <tr style=\"text-align: right;\">\n",
       "      <th></th>\n",
       "      <th>age</th>\n",
       "      <th>sex</th>\n",
       "      <th>cp</th>\n",
       "      <th>trestbps</th>\n",
       "      <th>chol</th>\n",
       "      <th>fbs</th>\n",
       "      <th>restecg</th>\n",
       "      <th>thalach</th>\n",
       "      <th>exang</th>\n",
       "      <th>oldpeak</th>\n",
       "      <th>slope</th>\n",
       "      <th>ca</th>\n",
       "      <th>thal</th>\n",
       "      <th>target</th>\n",
       "    </tr>\n",
       "  </thead>\n",
       "  <tbody>\n",
       "    <tr>\n",
       "      <th>0</th>\n",
       "      <td>63</td>\n",
       "      <td>1</td>\n",
       "      <td>3</td>\n",
       "      <td>145</td>\n",
       "      <td>233</td>\n",
       "      <td>1</td>\n",
       "      <td>0</td>\n",
       "      <td>150</td>\n",
       "      <td>0</td>\n",
       "      <td>2.3</td>\n",
       "      <td>0</td>\n",
       "      <td>0</td>\n",
       "      <td>1</td>\n",
       "      <td>1</td>\n",
       "    </tr>\n",
       "    <tr>\n",
       "      <th>1</th>\n",
       "      <td>37</td>\n",
       "      <td>1</td>\n",
       "      <td>2</td>\n",
       "      <td>130</td>\n",
       "      <td>250</td>\n",
       "      <td>0</td>\n",
       "      <td>1</td>\n",
       "      <td>187</td>\n",
       "      <td>0</td>\n",
       "      <td>3.5</td>\n",
       "      <td>0</td>\n",
       "      <td>0</td>\n",
       "      <td>2</td>\n",
       "      <td>1</td>\n",
       "    </tr>\n",
       "    <tr>\n",
       "      <th>2</th>\n",
       "      <td>41</td>\n",
       "      <td>0</td>\n",
       "      <td>1</td>\n",
       "      <td>130</td>\n",
       "      <td>204</td>\n",
       "      <td>0</td>\n",
       "      <td>0</td>\n",
       "      <td>172</td>\n",
       "      <td>0</td>\n",
       "      <td>1.4</td>\n",
       "      <td>2</td>\n",
       "      <td>0</td>\n",
       "      <td>2</td>\n",
       "      <td>1</td>\n",
       "    </tr>\n",
       "    <tr>\n",
       "      <th>3</th>\n",
       "      <td>56</td>\n",
       "      <td>1</td>\n",
       "      <td>1</td>\n",
       "      <td>120</td>\n",
       "      <td>236</td>\n",
       "      <td>0</td>\n",
       "      <td>1</td>\n",
       "      <td>178</td>\n",
       "      <td>0</td>\n",
       "      <td>0.8</td>\n",
       "      <td>2</td>\n",
       "      <td>0</td>\n",
       "      <td>2</td>\n",
       "      <td>1</td>\n",
       "    </tr>\n",
       "    <tr>\n",
       "      <th>4</th>\n",
       "      <td>57</td>\n",
       "      <td>0</td>\n",
       "      <td>0</td>\n",
       "      <td>120</td>\n",
       "      <td>354</td>\n",
       "      <td>0</td>\n",
       "      <td>1</td>\n",
       "      <td>163</td>\n",
       "      <td>1</td>\n",
       "      <td>0.6</td>\n",
       "      <td>2</td>\n",
       "      <td>0</td>\n",
       "      <td>2</td>\n",
       "      <td>1</td>\n",
       "    </tr>\n",
       "  </tbody>\n",
       "</table>\n",
       "</div>"
      ],
      "text/plain": [
       "   age  sex  cp  trestbps  chol  fbs  restecg  thalach  exang  oldpeak  slope  \\\n",
       "0   63    1   3       145   233    1        0      150      0      2.3      0   \n",
       "1   37    1   2       130   250    0        1      187      0      3.5      0   \n",
       "2   41    0   1       130   204    0        0      172      0      1.4      2   \n",
       "3   56    1   1       120   236    0        1      178      0      0.8      2   \n",
       "4   57    0   0       120   354    0        1      163      1      0.6      2   \n",
       "\n",
       "   ca  thal  target  \n",
       "0   0     1       1  \n",
       "1   0     2       1  \n",
       "2   0     2       1  \n",
       "3   0     2       1  \n",
       "4   0     2       1  "
      ]
     },
     "execution_count": 14,
     "metadata": {},
     "output_type": "execute_result"
    }
   ],
   "source": [
    "df.head()"
   ]
  },
  {
   "cell_type": "code",
   "execution_count": 15,
   "metadata": {},
   "outputs": [],
   "source": [
    "# Split our data into X and y \n",
    "X = df.drop('target',axis=1)\n",
    "y = df['target']"
   ]
  },
  {
   "cell_type": "code",
   "execution_count": 16,
   "metadata": {},
   "outputs": [
    {
     "data": {
      "text/html": [
       "<div>\n",
       "<style scoped>\n",
       "    .dataframe tbody tr th:only-of-type {\n",
       "        vertical-align: middle;\n",
       "    }\n",
       "\n",
       "    .dataframe tbody tr th {\n",
       "        vertical-align: top;\n",
       "    }\n",
       "\n",
       "    .dataframe thead th {\n",
       "        text-align: right;\n",
       "    }\n",
       "</style>\n",
       "<table border=\"1\" class=\"dataframe\">\n",
       "  <thead>\n",
       "    <tr style=\"text-align: right;\">\n",
       "      <th></th>\n",
       "      <th>age</th>\n",
       "      <th>sex</th>\n",
       "      <th>cp</th>\n",
       "      <th>trestbps</th>\n",
       "      <th>chol</th>\n",
       "      <th>fbs</th>\n",
       "      <th>restecg</th>\n",
       "      <th>thalach</th>\n",
       "      <th>exang</th>\n",
       "      <th>oldpeak</th>\n",
       "      <th>slope</th>\n",
       "      <th>ca</th>\n",
       "      <th>thal</th>\n",
       "    </tr>\n",
       "  </thead>\n",
       "  <tbody>\n",
       "    <tr>\n",
       "      <th>0</th>\n",
       "      <td>63</td>\n",
       "      <td>1</td>\n",
       "      <td>3</td>\n",
       "      <td>145</td>\n",
       "      <td>233</td>\n",
       "      <td>1</td>\n",
       "      <td>0</td>\n",
       "      <td>150</td>\n",
       "      <td>0</td>\n",
       "      <td>2.3</td>\n",
       "      <td>0</td>\n",
       "      <td>0</td>\n",
       "      <td>1</td>\n",
       "    </tr>\n",
       "    <tr>\n",
       "      <th>1</th>\n",
       "      <td>37</td>\n",
       "      <td>1</td>\n",
       "      <td>2</td>\n",
       "      <td>130</td>\n",
       "      <td>250</td>\n",
       "      <td>0</td>\n",
       "      <td>1</td>\n",
       "      <td>187</td>\n",
       "      <td>0</td>\n",
       "      <td>3.5</td>\n",
       "      <td>0</td>\n",
       "      <td>0</td>\n",
       "      <td>2</td>\n",
       "    </tr>\n",
       "    <tr>\n",
       "      <th>2</th>\n",
       "      <td>41</td>\n",
       "      <td>0</td>\n",
       "      <td>1</td>\n",
       "      <td>130</td>\n",
       "      <td>204</td>\n",
       "      <td>0</td>\n",
       "      <td>0</td>\n",
       "      <td>172</td>\n",
       "      <td>0</td>\n",
       "      <td>1.4</td>\n",
       "      <td>2</td>\n",
       "      <td>0</td>\n",
       "      <td>2</td>\n",
       "    </tr>\n",
       "    <tr>\n",
       "      <th>3</th>\n",
       "      <td>56</td>\n",
       "      <td>1</td>\n",
       "      <td>1</td>\n",
       "      <td>120</td>\n",
       "      <td>236</td>\n",
       "      <td>0</td>\n",
       "      <td>1</td>\n",
       "      <td>178</td>\n",
       "      <td>0</td>\n",
       "      <td>0.8</td>\n",
       "      <td>2</td>\n",
       "      <td>0</td>\n",
       "      <td>2</td>\n",
       "    </tr>\n",
       "    <tr>\n",
       "      <th>4</th>\n",
       "      <td>57</td>\n",
       "      <td>0</td>\n",
       "      <td>0</td>\n",
       "      <td>120</td>\n",
       "      <td>354</td>\n",
       "      <td>0</td>\n",
       "      <td>1</td>\n",
       "      <td>163</td>\n",
       "      <td>1</td>\n",
       "      <td>0.6</td>\n",
       "      <td>2</td>\n",
       "      <td>0</td>\n",
       "      <td>2</td>\n",
       "    </tr>\n",
       "    <tr>\n",
       "      <th>...</th>\n",
       "      <td>...</td>\n",
       "      <td>...</td>\n",
       "      <td>...</td>\n",
       "      <td>...</td>\n",
       "      <td>...</td>\n",
       "      <td>...</td>\n",
       "      <td>...</td>\n",
       "      <td>...</td>\n",
       "      <td>...</td>\n",
       "      <td>...</td>\n",
       "      <td>...</td>\n",
       "      <td>...</td>\n",
       "      <td>...</td>\n",
       "    </tr>\n",
       "    <tr>\n",
       "      <th>298</th>\n",
       "      <td>57</td>\n",
       "      <td>0</td>\n",
       "      <td>0</td>\n",
       "      <td>140</td>\n",
       "      <td>241</td>\n",
       "      <td>0</td>\n",
       "      <td>1</td>\n",
       "      <td>123</td>\n",
       "      <td>1</td>\n",
       "      <td>0.2</td>\n",
       "      <td>1</td>\n",
       "      <td>0</td>\n",
       "      <td>3</td>\n",
       "    </tr>\n",
       "    <tr>\n",
       "      <th>299</th>\n",
       "      <td>45</td>\n",
       "      <td>1</td>\n",
       "      <td>3</td>\n",
       "      <td>110</td>\n",
       "      <td>264</td>\n",
       "      <td>0</td>\n",
       "      <td>1</td>\n",
       "      <td>132</td>\n",
       "      <td>0</td>\n",
       "      <td>1.2</td>\n",
       "      <td>1</td>\n",
       "      <td>0</td>\n",
       "      <td>3</td>\n",
       "    </tr>\n",
       "    <tr>\n",
       "      <th>300</th>\n",
       "      <td>68</td>\n",
       "      <td>1</td>\n",
       "      <td>0</td>\n",
       "      <td>144</td>\n",
       "      <td>193</td>\n",
       "      <td>1</td>\n",
       "      <td>1</td>\n",
       "      <td>141</td>\n",
       "      <td>0</td>\n",
       "      <td>3.4</td>\n",
       "      <td>1</td>\n",
       "      <td>2</td>\n",
       "      <td>3</td>\n",
       "    </tr>\n",
       "    <tr>\n",
       "      <th>301</th>\n",
       "      <td>57</td>\n",
       "      <td>1</td>\n",
       "      <td>0</td>\n",
       "      <td>130</td>\n",
       "      <td>131</td>\n",
       "      <td>0</td>\n",
       "      <td>1</td>\n",
       "      <td>115</td>\n",
       "      <td>1</td>\n",
       "      <td>1.2</td>\n",
       "      <td>1</td>\n",
       "      <td>1</td>\n",
       "      <td>3</td>\n",
       "    </tr>\n",
       "    <tr>\n",
       "      <th>302</th>\n",
       "      <td>57</td>\n",
       "      <td>0</td>\n",
       "      <td>1</td>\n",
       "      <td>130</td>\n",
       "      <td>236</td>\n",
       "      <td>0</td>\n",
       "      <td>0</td>\n",
       "      <td>174</td>\n",
       "      <td>0</td>\n",
       "      <td>0.0</td>\n",
       "      <td>1</td>\n",
       "      <td>1</td>\n",
       "      <td>2</td>\n",
       "    </tr>\n",
       "  </tbody>\n",
       "</table>\n",
       "<p>303 rows × 13 columns</p>\n",
       "</div>"
      ],
      "text/plain": [
       "     age  sex  cp  trestbps  chol  fbs  restecg  thalach  exang  oldpeak  \\\n",
       "0     63    1   3       145   233    1        0      150      0      2.3   \n",
       "1     37    1   2       130   250    0        1      187      0      3.5   \n",
       "2     41    0   1       130   204    0        0      172      0      1.4   \n",
       "3     56    1   1       120   236    0        1      178      0      0.8   \n",
       "4     57    0   0       120   354    0        1      163      1      0.6   \n",
       "..   ...  ...  ..       ...   ...  ...      ...      ...    ...      ...   \n",
       "298   57    0   0       140   241    0        1      123      1      0.2   \n",
       "299   45    1   3       110   264    0        1      132      0      1.2   \n",
       "300   68    1   0       144   193    1        1      141      0      3.4   \n",
       "301   57    1   0       130   131    0        1      115      1      1.2   \n",
       "302   57    0   1       130   236    0        0      174      0      0.0   \n",
       "\n",
       "     slope  ca  thal  \n",
       "0        0   0     1  \n",
       "1        0   0     2  \n",
       "2        2   0     2  \n",
       "3        2   0     2  \n",
       "4        2   0     2  \n",
       "..     ...  ..   ...  \n",
       "298      1   0     3  \n",
       "299      1   0     3  \n",
       "300      1   2     3  \n",
       "301      1   1     3  \n",
       "302      1   1     2  \n",
       "\n",
       "[303 rows x 13 columns]"
      ]
     },
     "execution_count": 16,
     "metadata": {},
     "output_type": "execute_result"
    }
   ],
   "source": [
    "X"
   ]
  },
  {
   "cell_type": "code",
   "execution_count": 17,
   "metadata": {},
   "outputs": [
    {
     "data": {
      "text/plain": [
       "0      1\n",
       "1      1\n",
       "2      1\n",
       "3      1\n",
       "4      1\n",
       "      ..\n",
       "298    0\n",
       "299    0\n",
       "300    0\n",
       "301    0\n",
       "302    0\n",
       "Name: target, Length: 303, dtype: int64"
      ]
     },
     "execution_count": 17,
     "metadata": {},
     "output_type": "execute_result"
    }
   ],
   "source": [
    "y"
   ]
  },
  {
   "cell_type": "code",
   "execution_count": 18,
   "metadata": {},
   "outputs": [],
   "source": [
    "np.random.seed(42)\n",
    "#Create TRain and test data\n",
    "X_train, X_test, y_train, y_test = train_test_split(X,\n",
    "                                                    y,\n",
    "                                                    test_size=0.2)"
   ]
  },
  {
   "cell_type": "code",
   "execution_count": 19,
   "metadata": {},
   "outputs": [
    {
     "data": {
      "text/html": [
       "<div>\n",
       "<style scoped>\n",
       "    .dataframe tbody tr th:only-of-type {\n",
       "        vertical-align: middle;\n",
       "    }\n",
       "\n",
       "    .dataframe tbody tr th {\n",
       "        vertical-align: top;\n",
       "    }\n",
       "\n",
       "    .dataframe thead th {\n",
       "        text-align: right;\n",
       "    }\n",
       "</style>\n",
       "<table border=\"1\" class=\"dataframe\">\n",
       "  <thead>\n",
       "    <tr style=\"text-align: right;\">\n",
       "      <th></th>\n",
       "      <th>age</th>\n",
       "      <th>sex</th>\n",
       "      <th>cp</th>\n",
       "      <th>trestbps</th>\n",
       "      <th>chol</th>\n",
       "      <th>fbs</th>\n",
       "      <th>restecg</th>\n",
       "      <th>thalach</th>\n",
       "      <th>exang</th>\n",
       "      <th>oldpeak</th>\n",
       "      <th>slope</th>\n",
       "      <th>ca</th>\n",
       "      <th>thal</th>\n",
       "    </tr>\n",
       "  </thead>\n",
       "  <tbody>\n",
       "    <tr>\n",
       "      <th>132</th>\n",
       "      <td>42</td>\n",
       "      <td>1</td>\n",
       "      <td>1</td>\n",
       "      <td>120</td>\n",
       "      <td>295</td>\n",
       "      <td>0</td>\n",
       "      <td>1</td>\n",
       "      <td>162</td>\n",
       "      <td>0</td>\n",
       "      <td>0.0</td>\n",
       "      <td>2</td>\n",
       "      <td>0</td>\n",
       "      <td>2</td>\n",
       "    </tr>\n",
       "    <tr>\n",
       "      <th>202</th>\n",
       "      <td>58</td>\n",
       "      <td>1</td>\n",
       "      <td>0</td>\n",
       "      <td>150</td>\n",
       "      <td>270</td>\n",
       "      <td>0</td>\n",
       "      <td>0</td>\n",
       "      <td>111</td>\n",
       "      <td>1</td>\n",
       "      <td>0.8</td>\n",
       "      <td>2</td>\n",
       "      <td>0</td>\n",
       "      <td>3</td>\n",
       "    </tr>\n",
       "    <tr>\n",
       "      <th>196</th>\n",
       "      <td>46</td>\n",
       "      <td>1</td>\n",
       "      <td>2</td>\n",
       "      <td>150</td>\n",
       "      <td>231</td>\n",
       "      <td>0</td>\n",
       "      <td>1</td>\n",
       "      <td>147</td>\n",
       "      <td>0</td>\n",
       "      <td>3.6</td>\n",
       "      <td>1</td>\n",
       "      <td>0</td>\n",
       "      <td>2</td>\n",
       "    </tr>\n",
       "    <tr>\n",
       "      <th>75</th>\n",
       "      <td>55</td>\n",
       "      <td>0</td>\n",
       "      <td>1</td>\n",
       "      <td>135</td>\n",
       "      <td>250</td>\n",
       "      <td>0</td>\n",
       "      <td>0</td>\n",
       "      <td>161</td>\n",
       "      <td>0</td>\n",
       "      <td>1.4</td>\n",
       "      <td>1</td>\n",
       "      <td>0</td>\n",
       "      <td>2</td>\n",
       "    </tr>\n",
       "    <tr>\n",
       "      <th>176</th>\n",
       "      <td>60</td>\n",
       "      <td>1</td>\n",
       "      <td>0</td>\n",
       "      <td>117</td>\n",
       "      <td>230</td>\n",
       "      <td>1</td>\n",
       "      <td>1</td>\n",
       "      <td>160</td>\n",
       "      <td>1</td>\n",
       "      <td>1.4</td>\n",
       "      <td>2</td>\n",
       "      <td>2</td>\n",
       "      <td>3</td>\n",
       "    </tr>\n",
       "    <tr>\n",
       "      <th>...</th>\n",
       "      <td>...</td>\n",
       "      <td>...</td>\n",
       "      <td>...</td>\n",
       "      <td>...</td>\n",
       "      <td>...</td>\n",
       "      <td>...</td>\n",
       "      <td>...</td>\n",
       "      <td>...</td>\n",
       "      <td>...</td>\n",
       "      <td>...</td>\n",
       "      <td>...</td>\n",
       "      <td>...</td>\n",
       "      <td>...</td>\n",
       "    </tr>\n",
       "    <tr>\n",
       "      <th>188</th>\n",
       "      <td>50</td>\n",
       "      <td>1</td>\n",
       "      <td>2</td>\n",
       "      <td>140</td>\n",
       "      <td>233</td>\n",
       "      <td>0</td>\n",
       "      <td>1</td>\n",
       "      <td>163</td>\n",
       "      <td>0</td>\n",
       "      <td>0.6</td>\n",
       "      <td>1</td>\n",
       "      <td>1</td>\n",
       "      <td>3</td>\n",
       "    </tr>\n",
       "    <tr>\n",
       "      <th>71</th>\n",
       "      <td>51</td>\n",
       "      <td>1</td>\n",
       "      <td>2</td>\n",
       "      <td>94</td>\n",
       "      <td>227</td>\n",
       "      <td>0</td>\n",
       "      <td>1</td>\n",
       "      <td>154</td>\n",
       "      <td>1</td>\n",
       "      <td>0.0</td>\n",
       "      <td>2</td>\n",
       "      <td>1</td>\n",
       "      <td>3</td>\n",
       "    </tr>\n",
       "    <tr>\n",
       "      <th>106</th>\n",
       "      <td>69</td>\n",
       "      <td>1</td>\n",
       "      <td>3</td>\n",
       "      <td>160</td>\n",
       "      <td>234</td>\n",
       "      <td>1</td>\n",
       "      <td>0</td>\n",
       "      <td>131</td>\n",
       "      <td>0</td>\n",
       "      <td>0.1</td>\n",
       "      <td>1</td>\n",
       "      <td>1</td>\n",
       "      <td>2</td>\n",
       "    </tr>\n",
       "    <tr>\n",
       "      <th>270</th>\n",
       "      <td>46</td>\n",
       "      <td>1</td>\n",
       "      <td>0</td>\n",
       "      <td>120</td>\n",
       "      <td>249</td>\n",
       "      <td>0</td>\n",
       "      <td>0</td>\n",
       "      <td>144</td>\n",
       "      <td>0</td>\n",
       "      <td>0.8</td>\n",
       "      <td>2</td>\n",
       "      <td>0</td>\n",
       "      <td>3</td>\n",
       "    </tr>\n",
       "    <tr>\n",
       "      <th>102</th>\n",
       "      <td>63</td>\n",
       "      <td>0</td>\n",
       "      <td>1</td>\n",
       "      <td>140</td>\n",
       "      <td>195</td>\n",
       "      <td>0</td>\n",
       "      <td>1</td>\n",
       "      <td>179</td>\n",
       "      <td>0</td>\n",
       "      <td>0.0</td>\n",
       "      <td>2</td>\n",
       "      <td>2</td>\n",
       "      <td>2</td>\n",
       "    </tr>\n",
       "  </tbody>\n",
       "</table>\n",
       "<p>242 rows × 13 columns</p>\n",
       "</div>"
      ],
      "text/plain": [
       "     age  sex  cp  trestbps  chol  fbs  restecg  thalach  exang  oldpeak  \\\n",
       "132   42    1   1       120   295    0        1      162      0      0.0   \n",
       "202   58    1   0       150   270    0        0      111      1      0.8   \n",
       "196   46    1   2       150   231    0        1      147      0      3.6   \n",
       "75    55    0   1       135   250    0        0      161      0      1.4   \n",
       "176   60    1   0       117   230    1        1      160      1      1.4   \n",
       "..   ...  ...  ..       ...   ...  ...      ...      ...    ...      ...   \n",
       "188   50    1   2       140   233    0        1      163      0      0.6   \n",
       "71    51    1   2        94   227    0        1      154      1      0.0   \n",
       "106   69    1   3       160   234    1        0      131      0      0.1   \n",
       "270   46    1   0       120   249    0        0      144      0      0.8   \n",
       "102   63    0   1       140   195    0        1      179      0      0.0   \n",
       "\n",
       "     slope  ca  thal  \n",
       "132      2   0     2  \n",
       "202      2   0     3  \n",
       "196      1   0     2  \n",
       "75       1   0     2  \n",
       "176      2   2     3  \n",
       "..     ...  ..   ...  \n",
       "188      1   1     3  \n",
       "71       2   1     3  \n",
       "106      1   1     2  \n",
       "270      2   0     3  \n",
       "102      2   2     2  \n",
       "\n",
       "[242 rows x 13 columns]"
      ]
     },
     "execution_count": 19,
     "metadata": {},
     "output_type": "execute_result"
    }
   ],
   "source": [
    "X_train"
   ]
  },
  {
   "cell_type": "markdown",
   "metadata": {},
   "source": [
    "Now we've got our data into train and test we'll built a machine learning model \n",
    "\n",
    "We'll train it(find pattern)\n",
    "\n",
    "and then test it(Use those patterns)\n",
    "\n",
    "We're going to see three models \n",
    "1. Logistics Regression \n",
    "2. K-Neighbors Classifier\n",
    "3. Random Forest Classifier\n",
    "\n",
    "Let's Put model in a dictionary to Obey the Rule  \"D R Y\""
   ]
  },
  {
   "cell_type": "code",
   "execution_count": 20,
   "metadata": {},
   "outputs": [],
   "source": [
    "#BaseLine Class\n",
    "models = {\n",
    "        \"Logistics_Regression\": LogisticRegression(),\n",
    "        \"K-Nearest_Classifier\": KNeighborsClassifier(),\n",
    "        \"RandomForest Classifier\": RandomForestClassifier()\n",
    "}\n",
    "results = {}\n",
    "\n",
    "def evaluate(models, X_train, X_test, y_train, y_test):\n",
    "    np.random.seed(42)\n",
    "    \"\"\"\n",
    "    This Function Fits and Evaluate our model\n",
    "    Parameter Required:\n",
    "    models: The Machine Learning model\n",
    "    X_train: X_train data/training data\n",
    "    X_test: X_test data/test data\n",
    "    y_train:y_train data/train labels\n",
    "    y_test: y_test data/test labels\n",
    "    \n",
    "    \"\"\"\n",
    "    for model_name,model in models.items():\n",
    "        #Fit the model\n",
    "        model.fit(X_train,y_train)\n",
    "        #Predict the model\n",
    "        y_preds = model.predict(X_test)\n",
    "        results[model_name] = model.score(X_test,y_test)\n",
    "    return results"
   ]
  },
  {
   "cell_type": "code",
   "execution_count": 21,
   "metadata": {},
   "outputs": [
    {
     "name": "stderr",
     "output_type": "stream",
     "text": [
      "F:\\Heart-disease-project\\env\\lib\\site-packages\\sklearn\\linear_model\\_logistic.py:940: ConvergenceWarning: lbfgs failed to converge (status=1):\n",
      "STOP: TOTAL NO. of ITERATIONS REACHED LIMIT.\n",
      "\n",
      "Increase the number of iterations (max_iter) or scale the data as shown in:\n",
      "    https://scikit-learn.org/stable/modules/preprocessing.html\n",
      "Please also refer to the documentation for alternative solver options:\n",
      "    https://scikit-learn.org/stable/modules/linear_model.html#logistic-regression\n",
      "  extra_warning_msg=_LOGISTIC_SOLVER_CONVERGENCE_MSG)\n"
     ]
    },
    {
     "data": {
      "text/plain": [
       "{'Logistics_Regression': 0.8852459016393442,\n",
       " 'K-Nearest_Classifier': 0.6885245901639344,\n",
       " 'RandomForest Classifier': 0.8360655737704918}"
      ]
     },
     "execution_count": 21,
     "metadata": {},
     "output_type": "execute_result"
    }
   ],
   "source": [
    "model_comparison = evaluate(models,X_train, X_test, y_train, y_test)\n",
    "model_comparison"
   ]
  },
  {
   "cell_type": "markdown",
   "metadata": {},
   "source": [
    "### Model comparison\n"
   ]
  },
  {
   "cell_type": "code",
   "execution_count": 22,
   "metadata": {},
   "outputs": [
    {
     "data": {
      "image/png": "[encoded data removed]",
      "text/plain": [
       "<Figure size 432x288 with 1 Axes>"
      ]
     },
     "metadata": {
      "needs_background": "light"
     },
     "output_type": "display_data"
    }
   ],
   "source": [
    "model_comparison = pd.DataFrame(model_comparison,index=['accuracy'])\n",
    "model_comparison.T.plot(kind='bar'); #Transpose otherwise it looks weird\n",
    "plt.xticks(rotation=1);"
   ]
  },
  {
   "cell_type": "markdown",
   "metadata": {},
   "source": [
    "Now we've got our model which is baseline model but baseline model is not something are next steps \n",
    "based on... \n",
    "\n",
    "We'll Look at the following\n",
    "1. Hyperparameter\n",
    "2. Feature Importance\n",
    "3. Precision \n",
    "4. Recall\n",
    "5. F1 score\n",
    "6. Confusion Matrix\n",
    "7. Classification Report\n",
    "8. ROC curve\n",
    "\n",
    "### Hyperparameter\n"
   ]
  },
  {
   "cell_type": "code",
   "execution_count": 23,
   "metadata": {},
   "outputs": [],
   "source": [
    "train_score = []\n",
    "test_score = []\n",
    "\n",
    "for i in range(1,21):\n",
    "    #Set the KNN Instance\n",
    "    knn = KNeighborsClassifier()\n",
    "    #Set the parameters\n",
    "    knn.set_params(n_neighbors=i)\n",
    "    #Fit the model\n",
    "    knn.fit(X_train,y_train)\n",
    "    #Append into train_score list\n",
    "    train_score.append(knn.score(X_test,y_test))\n",
    "    #Append into test_score list\n",
    "    test_score.append(knn.score(X_train,y_train))\n",
    "\n",
    "    "
   ]
  },
  {
   "cell_type": "code",
   "execution_count": 24,
   "metadata": {
    "scrolled": true
   },
   "outputs": [
    {
     "data": {
      "image/png": "[encoded data removed]",
      "text/plain": [
       "<Figure size 432x288 with 1 Axes>"
      ]
     },
     "metadata": {
      "needs_background": "light"
     },
     "output_type": "display_data"
    }
   ],
   "source": [
    "#let's visualise train_score and test_score\n",
    "plt.plot(range(1,21),train_score,label='Train-score')\n",
    "plt.plot(range(1,21),test_score,label='Test-Score')\n",
    "plt.xticks(np.arange(1,21,1))\n",
    "plt.legend()\n",
    "plt.xlabel('Number of Neighbors')\n",
    "plt.ylabel('Accuracy');"
   ]
  },
  {
   "cell_type": "markdown",
   "metadata": {},
   "source": [
    "### Hyperparameter tunning with RandomSearchCV\n",
    "we're going to tune:\n",
    "\n",
    "* RandomForestClassifier()\n",
    "* Logistic Regression()"
   ]
  },
  {
   "cell_type": "code",
   "execution_count": 25,
   "metadata": {},
   "outputs": [
    {
     "name": "stdout",
     "output_type": "stream",
     "text": [
      "Fitting 5 folds for each of 10 candidates, totalling 50 fits\n",
      "[CV] solver=liblinear, C=0.0001 ......................................\n"
     ]
    },
    {
     "name": "stderr",
     "output_type": "stream",
     "text": [
      "[Parallel(n_jobs=1)]: Using backend SequentialBackend with 1 concurrent workers.\n"
     ]
    },
    {
     "name": "stdout",
     "output_type": "stream",
     "text": [
      "[CV] ....................... solver=liblinear, C=0.0001, total=   0.2s\n",
      "[CV] solver=liblinear, C=0.0001 ......................................\n",
      "[CV] ....................... solver=liblinear, C=0.0001, total=   0.0s\n",
      "[CV] solver=liblinear, C=0.0001 ......................................\n",
      "[CV] ....................... solver=liblinear, C=0.0001, total=   0.0s\n",
      "[CV] solver=liblinear, C=0.0001 ......................................\n",
      "[CV] ....................... solver=liblinear, C=0.0001, total=   0.0s\n",
      "[CV] solver=liblinear, C=0.0001 ......................................\n",
      "[CV] ....................... solver=liblinear, C=0.0001, total=   0.0s\n",
      "[CV] solver=liblinear, C=1438.44988828766 ............................\n",
      "[CV] ............. solver=liblinear, C=1438.44988828766, total=   0.0s\n",
      "[CV] solver=liblinear, C=1438.44988828766 ............................\n",
      "[CV] ............. solver=liblinear, C=1438.44988828766, total=   0.0s\n",
      "[CV] solver=liblinear, C=1438.44988828766 ............................\n",
      "[CV] ............. solver=liblinear, C=1438.44988828766, total=   0.0s\n",
      "[CV] solver=liblinear, C=1438.44988828766 ............................\n",
      "[CV] ............. solver=liblinear, C=1438.44988828766, total=   0.0s\n",
      "[CV] solver=liblinear, C=1438.44988828766 ............................\n",
      "[CV] ............. solver=liblinear, C=1438.44988828766, total=   0.0s\n",
      "[CV] solver=liblinear, C=206.913808111479 ............................\n",
      "[CV] ............. solver=liblinear, C=206.913808111479, total=   0.0s\n",
      "[CV] solver=liblinear, C=206.913808111479 ............................\n",
      "[CV] ............. solver=liblinear, C=206.913808111479, total=   0.0s\n",
      "[CV] solver=liblinear, C=206.913808111479 ............................\n",
      "[CV] ............. solver=liblinear, C=206.913808111479, total=   0.0s\n",
      "[CV] solver=liblinear, C=206.913808111479 ............................\n",
      "[CV] ............. solver=liblinear, C=206.913808111479, total=   0.0s\n",
      "[CV] solver=liblinear, C=206.913808111479 ............................\n",
      "[CV] ............. solver=liblinear, C=206.913808111479, total=   0.0s\n",
      "[CV] solver=liblinear, C=0.00026366508987303583 ......................\n",
      "[CV] ....... solver=liblinear, C=0.00026366508987303583, total=   0.0s\n",
      "[CV] solver=liblinear, C=0.00026366508987303583 ......................\n",
      "[CV] ....... solver=liblinear, C=0.00026366508987303583, total=   0.0s\n",
      "[CV] solver=liblinear, C=0.00026366508987303583 ......................\n",
      "[CV] ....... solver=liblinear, C=0.00026366508987303583, total=   0.0s\n",
      "[CV] solver=liblinear, C=0.00026366508987303583 ......................\n",
      "[CV] ....... solver=liblinear, C=0.00026366508987303583, total=   0.0s\n",
      "[CV] solver=liblinear, C=0.00026366508987303583 ......................\n",
      "[CV] ....... solver=liblinear, C=0.00026366508987303583, total=   0.0s\n",
      "[CV] solver=liblinear, C=0.23357214690901212 .........................\n",
      "[CV] .......... solver=liblinear, C=0.23357214690901212, total=   0.0s"
     ]
    },
    {
     "name": "stderr",
     "output_type": "stream",
     "text": [
      "[Parallel(n_jobs=1)]: Done   1 out of   1 | elapsed:    0.2s remaining:    0.0s\n"
     ]
    },
    {
     "name": "stdout",
     "output_type": "stream",
     "text": [
      "\n",
      "[CV] solver=liblinear, C=0.23357214690901212 .........................\n",
      "[CV] .......... solver=liblinear, C=0.23357214690901212, total=   0.0s\n",
      "[CV] solver=liblinear, C=0.23357214690901212 .........................\n",
      "[CV] .......... solver=liblinear, C=0.23357214690901212, total=   0.0s\n",
      "[CV] solver=liblinear, C=0.23357214690901212 .........................\n",
      "[CV] .......... solver=liblinear, C=0.23357214690901212, total=   0.0s\n",
      "[CV] solver=liblinear, C=0.23357214690901212 .........................\n",
      "[CV] .......... solver=liblinear, C=0.23357214690901212, total=   0.0s\n",
      "[CV] solver=liblinear, C=0.012742749857031334 ........................\n",
      "[CV] ......... solver=liblinear, C=0.012742749857031334, total=   0.0s\n",
      "[CV] solver=liblinear, C=0.012742749857031334 ........................\n",
      "[CV] ......... solver=liblinear, C=0.012742749857031334, total=   0.0s\n",
      "[CV] solver=liblinear, C=0.012742749857031334 ........................\n",
      "[CV] ......... solver=liblinear, C=0.012742749857031334, total=   0.0s\n",
      "[CV] solver=liblinear, C=0.012742749857031334 ........................\n",
      "[CV] ......... solver=liblinear, C=0.012742749857031334, total=   0.0s\n",
      "[CV] solver=liblinear, C=0.012742749857031334 ........................\n",
      "[CV] ......... solver=liblinear, C=0.012742749857031334, total=   0.0s\n",
      "[CV] solver=liblinear, C=4.281332398719396 ...........................\n",
      "[CV] ............ solver=liblinear, C=4.281332398719396, total=   0.0s\n",
      "[CV] solver=liblinear, C=4.281332398719396 ...........................\n",
      "[CV] ............ solver=liblinear, C=4.281332398719396, total=   0.0s\n",
      "[CV] solver=liblinear, C=4.281332398719396 ...........................\n",
      "[CV] ............ solver=liblinear, C=4.281332398719396, total=   0.0s\n",
      "[CV] solver=liblinear, C=4.281332398719396 ...........................\n",
      "[CV] ............ solver=liblinear, C=4.281332398719396, total=   0.0s\n",
      "[CV] solver=liblinear, C=4.281332398719396 ...........................\n",
      "[CV] ............ solver=liblinear, C=4.281332398719396, total=   0.0s\n",
      "[CV] solver=liblinear, C=0.0018329807108324356 .......................\n",
      "[CV] ........ solver=liblinear, C=0.0018329807108324356, total=   0.0s\n",
      "[CV] solver=liblinear, C=0.0018329807108324356 .......................\n",
      "[CV] ........ solver=liblinear, C=0.0018329807108324356, total=   0.0s\n",
      "[CV] solver=liblinear, C=0.0018329807108324356 .......................\n",
      "[CV] ........ solver=liblinear, C=0.0018329807108324356, total=   0.0s\n",
      "[CV] solver=liblinear, C=0.0018329807108324356 .......................\n",
      "[CV] ........ solver=liblinear, C=0.0018329807108324356, total=   0.0s\n",
      "[CV] solver=liblinear, C=0.0018329807108324356 .......................\n",
      "[CV] ........ solver=liblinear, C=0.0018329807108324356, total=   0.0s\n",
      "[CV] solver=liblinear, C=3792.690190732246 ...........................\n",
      "[CV] ............ solver=liblinear, C=3792.690190732246, total=   0.0s\n",
      "[CV] solver=liblinear, C=3792.690190732246 ...........................\n",
      "[CV] ............ solver=liblinear, C=3792.690190732246, total=   0.0s\n",
      "[CV] solver=liblinear, C=3792.690190732246 ...........................\n",
      "[CV] ............ solver=liblinear, C=3792.690190732246, total=   0.0s\n",
      "[CV] solver=liblinear, C=3792.690190732246 ...........................\n",
      "[CV] ............ solver=liblinear, C=3792.690190732246, total=   0.0s\n",
      "[CV] solver=liblinear, C=3792.690190732246 ...........................\n",
      "[CV] ............ solver=liblinear, C=3792.690190732246, total=   0.0s\n",
      "[CV] solver=liblinear, C=545.5594781168514 ...........................\n",
      "[CV] ............ solver=liblinear, C=545.5594781168514, total=   0.0s\n",
      "[CV] solver=liblinear, C=545.5594781168514 ...........................\n",
      "[CV] ............ solver=liblinear, C=545.5594781168514, total=   0.0s\n",
      "[CV] solver=liblinear, C=545.5594781168514 ...........................\n",
      "[CV] ............ solver=liblinear, C=545.5594781168514, total=   0.0s\n",
      "[CV] solver=liblinear, C=545.5594781168514 ...........................\n",
      "[CV] ............ solver=liblinear, C=545.5594781168514, total=   0.0s\n",
      "[CV] solver=liblinear, C=545.5594781168514 ...........................\n",
      "[CV] ............ solver=liblinear, C=545.5594781168514, total=   0.0s\n"
     ]
    },
    {
     "name": "stderr",
     "output_type": "stream",
     "text": [
      "[Parallel(n_jobs=1)]: Done  50 out of  50 | elapsed:    0.7s finished\n"
     ]
    },
    {
     "data": {
      "text/plain": [
       "RandomizedSearchCV(cv=5, error_score=nan,\n",
       "                   estimator=LogisticRegression(C=1.0, class_weight=None,\n",
       "                                                dual=False, fit_intercept=True,\n",
       "                                                intercept_scaling=1,\n",
       "                                                l1_ratio=None, max_iter=100,\n",
       "                                                multi_class='auto', n_jobs=None,\n",
       "                                                penalty='l2', random_state=None,\n",
       "                                                solver='lbfgs', tol=0.0001,\n",
       "                                                verbose=0, warm_start=False),\n",
       "                   iid='deprecated', n_iter=10, n_jobs=None,\n",
       "                   param_distributions={'C':...\n",
       "       4.83293024e-03, 1.27427499e-02, 3.35981829e-02, 8.85866790e-02,\n",
       "       2.33572147e-01, 6.15848211e-01, 1.62377674e+00, 4.28133240e+00,\n",
       "       1.12883789e+01, 2.97635144e+01, 7.84759970e+01, 2.06913808e+02,\n",
       "       5.45559478e+02, 1.43844989e+03, 3.79269019e+03, 1.00000000e+04]),\n",
       "                                        'solver': ['liblinear']},\n",
       "                   pre_dispatch='2*n_jobs', random_state=None, refit=True,\n",
       "                   return_train_score=False, scoring=None, verbose=2)"
      ]
     },
     "execution_count": 25,
     "metadata": {},
     "output_type": "execute_result"
    }
   ],
   "source": [
    "#Create a Hyperparameter grid with logistic regression\n",
    "log_reg_grid = {\"C\": np.logspace(-4, 4, 20),\n",
    "                \"solver\": [\"liblinear\"]}\n",
    "\n",
    "#Create a Hyperparameter grid for RandomForestClassifier()\n",
    "rf_grid = {\"n_estimators\": np.arange(10,1000,50),\n",
    "           \"max_depth\": [None, 3, 5, 10],\n",
    "           \"min_samples_split\": np.arange(2, 20, 2),\n",
    "           \"min_samples_leaf\": np.arange(1, 20 , 2)}\n",
    "\n",
    "#Initialise RandomSearchCV for logistic Regression\n",
    "np.random.seed(42)\n",
    "rs_log_reg = RandomizedSearchCV(LogisticRegression(),\n",
    "                                log_reg_grid,\n",
    "                                cv=5,\n",
    "                                verbose=2)\n",
    "#Fit the model\n",
    "rs_log_reg.fit(X_train,y_train)\n",
    "\n",
    "\n",
    "\n",
    "\n"
   ]
  },
  {
   "cell_type": "code",
   "execution_count": 26,
   "metadata": {},
   "outputs": [
    {
     "data": {
      "text/plain": [
       "{'solver': 'liblinear', 'C': 0.23357214690901212}"
      ]
     },
     "execution_count": 26,
     "metadata": {},
     "output_type": "execute_result"
    }
   ],
   "source": [
    "rs_log_reg.best_params_"
   ]
  },
  {
   "cell_type": "code",
   "execution_count": 27,
   "metadata": {},
   "outputs": [
    {
     "data": {
      "text/plain": [
       "0.8852459016393442"
      ]
     },
     "execution_count": 27,
     "metadata": {},
     "output_type": "execute_result"
    }
   ],
   "source": [
    "rs_log_reg.score(X_test,y_test)"
   ]
  },
  {
   "cell_type": "code",
   "execution_count": null,
   "metadata": {
    "scrolled": true
   },
   "outputs": [],
   "source": [
    "\n"
   ]
  },
  {
   "cell_type": "code",
   "execution_count": 28,
   "metadata": {},
   "outputs": [
    {
     "name": "stdout",
     "output_type": "stream",
     "text": [
      "Fitting 5 folds for each of 10 candidates, totalling 50 fits\n",
      "[CV] n_estimators=10, min_samples_split=16, min_samples_leaf=9, max_depth=None \n",
      "[CV]  n_estimators=10, min_samples_split=16, min_samples_leaf=9, max_depth=None, total=   0.1s\n",
      "[CV] n_estimators=10, min_samples_split=16, min_samples_leaf=9, max_depth=None \n",
      "[CV]  n_estimators=10, min_samples_split=16, min_samples_leaf=9, max_depth=None, total=   0.0s\n",
      "[CV] n_estimators=10, min_samples_split=16, min_samples_leaf=9, max_depth=None \n",
      "[CV]  n_estimators=10, min_samples_split=16, min_samples_leaf=9, max_depth=None, total=   0.0s\n",
      "[CV] n_estimators=10, min_samples_split=16, min_samples_leaf=9, max_depth=None \n"
     ]
    },
    {
     "name": "stderr",
     "output_type": "stream",
     "text": [
      "[Parallel(n_jobs=1)]: Using backend SequentialBackend with 1 concurrent workers.\n",
      "[Parallel(n_jobs=1)]: Done   1 out of   1 | elapsed:    0.0s remaining:    0.0s\n"
     ]
    },
    {
     "name": "stdout",
     "output_type": "stream",
     "text": [
      "[CV]  n_estimators=10, min_samples_split=16, min_samples_leaf=9, max_depth=None, total=   0.0s\n",
      "[CV] n_estimators=10, min_samples_split=16, min_samples_leaf=9, max_depth=None \n",
      "[CV]  n_estimators=10, min_samples_split=16, min_samples_leaf=9, max_depth=None, total=   0.0s\n",
      "[CV] n_estimators=510, min_samples_split=18, min_samples_leaf=19, max_depth=5 \n",
      "[CV]  n_estimators=510, min_samples_split=18, min_samples_leaf=19, max_depth=5, total=   1.3s\n",
      "[CV] n_estimators=510, min_samples_split=18, min_samples_leaf=19, max_depth=5 \n",
      "[CV]  n_estimators=510, min_samples_split=18, min_samples_leaf=19, max_depth=5, total=   1.3s\n",
      "[CV] n_estimators=510, min_samples_split=18, min_samples_leaf=19, max_depth=5 \n",
      "[CV]  n_estimators=510, min_samples_split=18, min_samples_leaf=19, max_depth=5, total=   1.3s\n",
      "[CV] n_estimators=510, min_samples_split=18, min_samples_leaf=19, max_depth=5 \n",
      "[CV]  n_estimators=510, min_samples_split=18, min_samples_leaf=19, max_depth=5, total=   1.3s\n",
      "[CV] n_estimators=510, min_samples_split=18, min_samples_leaf=19, max_depth=5 \n",
      "[CV]  n_estimators=510, min_samples_split=18, min_samples_leaf=19, max_depth=5, total=   1.3s\n",
      "[CV] n_estimators=310, min_samples_split=2, min_samples_leaf=19, max_depth=5 \n",
      "[CV]  n_estimators=310, min_samples_split=2, min_samples_leaf=19, max_depth=5, total=   0.8s\n",
      "[CV] n_estimators=310, min_samples_split=2, min_samples_leaf=19, max_depth=5 \n",
      "[CV]  n_estimators=310, min_samples_split=2, min_samples_leaf=19, max_depth=5, total=   0.8s\n",
      "[CV] n_estimators=310, min_samples_split=2, min_samples_leaf=19, max_depth=5 \n",
      "[CV]  n_estimators=310, min_samples_split=2, min_samples_leaf=19, max_depth=5, total=   0.8s\n",
      "[CV] n_estimators=310, min_samples_split=2, min_samples_leaf=19, max_depth=5 \n",
      "[CV]  n_estimators=310, min_samples_split=2, min_samples_leaf=19, max_depth=5, total=   0.8s\n",
      "[CV] n_estimators=310, min_samples_split=2, min_samples_leaf=19, max_depth=5 \n",
      "[CV]  n_estimators=310, min_samples_split=2, min_samples_leaf=19, max_depth=5, total=   0.8s\n",
      "[CV] n_estimators=560, min_samples_split=16, min_samples_leaf=17, max_depth=5 \n",
      "[CV]  n_estimators=560, min_samples_split=16, min_samples_leaf=17, max_depth=5, total=   1.4s\n",
      "[CV] n_estimators=560, min_samples_split=16, min_samples_leaf=17, max_depth=5 \n",
      "[CV]  n_estimators=560, min_samples_split=16, min_samples_leaf=17, max_depth=5, total=   1.4s\n",
      "[CV] n_estimators=560, min_samples_split=16, min_samples_leaf=17, max_depth=5 \n",
      "[CV]  n_estimators=560, min_samples_split=16, min_samples_leaf=17, max_depth=5, total=   1.4s\n",
      "[CV] n_estimators=560, min_samples_split=16, min_samples_leaf=17, max_depth=5 \n",
      "[CV]  n_estimators=560, min_samples_split=16, min_samples_leaf=17, max_depth=5, total=   1.4s\n",
      "[CV] n_estimators=560, min_samples_split=16, min_samples_leaf=17, max_depth=5 \n",
      "[CV]  n_estimators=560, min_samples_split=16, min_samples_leaf=17, max_depth=5, total=   1.4s\n",
      "[CV] n_estimators=610, min_samples_split=18, min_samples_leaf=1, max_depth=5 \n",
      "[CV]  n_estimators=610, min_samples_split=18, min_samples_leaf=1, max_depth=5, total=   1.6s\n",
      "[CV] n_estimators=610, min_samples_split=18, min_samples_leaf=1, max_depth=5 \n",
      "[CV]  n_estimators=610, min_samples_split=18, min_samples_leaf=1, max_depth=5, total=   1.9s\n",
      "[CV] n_estimators=610, min_samples_split=18, min_samples_leaf=1, max_depth=5 \n",
      "[CV]  n_estimators=610, min_samples_split=18, min_samples_leaf=1, max_depth=5, total=   1.6s\n",
      "[CV] n_estimators=610, min_samples_split=18, min_samples_leaf=1, max_depth=5 \n",
      "[CV]  n_estimators=610, min_samples_split=18, min_samples_leaf=1, max_depth=5, total=   1.6s\n",
      "[CV] n_estimators=610, min_samples_split=18, min_samples_leaf=1, max_depth=5 \n",
      "[CV]  n_estimators=610, min_samples_split=18, min_samples_leaf=1, max_depth=5, total=   1.6s\n",
      "[CV] n_estimators=610, min_samples_split=4, min_samples_leaf=15, max_depth=3 \n",
      "[CV]  n_estimators=610, min_samples_split=4, min_samples_leaf=15, max_depth=3, total=   1.6s\n",
      "[CV] n_estimators=610, min_samples_split=4, min_samples_leaf=15, max_depth=3 \n",
      "[CV]  n_estimators=610, min_samples_split=4, min_samples_leaf=15, max_depth=3, total=   1.6s\n",
      "[CV] n_estimators=610, min_samples_split=4, min_samples_leaf=15, max_depth=3 \n",
      "[CV]  n_estimators=610, min_samples_split=4, min_samples_leaf=15, max_depth=3, total=   1.6s\n",
      "[CV] n_estimators=610, min_samples_split=4, min_samples_leaf=15, max_depth=3 \n",
      "[CV]  n_estimators=610, min_samples_split=4, min_samples_leaf=15, max_depth=3, total=   1.6s\n",
      "[CV] n_estimators=610, min_samples_split=4, min_samples_leaf=15, max_depth=3 \n",
      "[CV]  n_estimators=610, min_samples_split=4, min_samples_leaf=15, max_depth=3, total=   1.6s\n",
      "[CV] n_estimators=710, min_samples_split=16, min_samples_leaf=3, max_depth=10 \n",
      "[CV]  n_estimators=710, min_samples_split=16, min_samples_leaf=3, max_depth=10, total=   1.9s\n",
      "[CV] n_estimators=710, min_samples_split=16, min_samples_leaf=3, max_depth=10 \n",
      "[CV]  n_estimators=710, min_samples_split=16, min_samples_leaf=3, max_depth=10, total=   1.9s\n",
      "[CV] n_estimators=710, min_samples_split=16, min_samples_leaf=3, max_depth=10 \n",
      "[CV]  n_estimators=710, min_samples_split=16, min_samples_leaf=3, max_depth=10, total=   1.9s\n",
      "[CV] n_estimators=710, min_samples_split=16, min_samples_leaf=3, max_depth=10 \n",
      "[CV]  n_estimators=710, min_samples_split=16, min_samples_leaf=3, max_depth=10, total=   1.9s\n",
      "[CV] n_estimators=710, min_samples_split=16, min_samples_leaf=3, max_depth=10 \n",
      "[CV]  n_estimators=710, min_samples_split=16, min_samples_leaf=3, max_depth=10, total=   1.9s\n",
      "[CV] n_estimators=260, min_samples_split=16, min_samples_leaf=9, max_depth=10 \n",
      "[CV]  n_estimators=260, min_samples_split=16, min_samples_leaf=9, max_depth=10, total=   0.7s\n",
      "[CV] n_estimators=260, min_samples_split=16, min_samples_leaf=9, max_depth=10 \n",
      "[CV]  n_estimators=260, min_samples_split=16, min_samples_leaf=9, max_depth=10, total=   0.7s\n",
      "[CV] n_estimators=260, min_samples_split=16, min_samples_leaf=9, max_depth=10 \n",
      "[CV]  n_estimators=260, min_samples_split=16, min_samples_leaf=9, max_depth=10, total=   0.7s\n",
      "[CV] n_estimators=260, min_samples_split=16, min_samples_leaf=9, max_depth=10 \n",
      "[CV]  n_estimators=260, min_samples_split=16, min_samples_leaf=9, max_depth=10, total=   0.7s\n",
      "[CV] n_estimators=260, min_samples_split=16, min_samples_leaf=9, max_depth=10 \n",
      "[CV]  n_estimators=260, min_samples_split=16, min_samples_leaf=9, max_depth=10, total=   0.7s\n",
      "[CV] n_estimators=310, min_samples_split=12, min_samples_leaf=5, max_depth=None \n",
      "[CV]  n_estimators=310, min_samples_split=12, min_samples_leaf=5, max_depth=None, total=   0.8s\n",
      "[CV] n_estimators=310, min_samples_split=12, min_samples_leaf=5, max_depth=None \n",
      "[CV]  n_estimators=310, min_samples_split=12, min_samples_leaf=5, max_depth=None, total=   0.8s\n",
      "[CV] n_estimators=310, min_samples_split=12, min_samples_leaf=5, max_depth=None \n",
      "[CV]  n_estimators=310, min_samples_split=12, min_samples_leaf=5, max_depth=None, total=   0.8s\n",
      "[CV] n_estimators=310, min_samples_split=12, min_samples_leaf=5, max_depth=None \n",
      "[CV]  n_estimators=310, min_samples_split=12, min_samples_leaf=5, max_depth=None, total=   0.8s\n",
      "[CV] n_estimators=310, min_samples_split=12, min_samples_leaf=5, max_depth=None \n",
      "[CV]  n_estimators=310, min_samples_split=12, min_samples_leaf=5, max_depth=None, total=   0.8s\n",
      "[CV] n_estimators=710, min_samples_split=12, min_samples_leaf=19, max_depth=5 \n",
      "[CV]  n_estimators=710, min_samples_split=12, min_samples_leaf=19, max_depth=5, total=   1.8s\n",
      "[CV] n_estimators=710, min_samples_split=12, min_samples_leaf=19, max_depth=5 \n",
      "[CV]  n_estimators=710, min_samples_split=12, min_samples_leaf=19, max_depth=5, total=   1.8s\n",
      "[CV] n_estimators=710, min_samples_split=12, min_samples_leaf=19, max_depth=5 \n",
      "[CV]  n_estimators=710, min_samples_split=12, min_samples_leaf=19, max_depth=5, total=   1.8s\n",
      "[CV] n_estimators=710, min_samples_split=12, min_samples_leaf=19, max_depth=5 \n",
      "[CV]  n_estimators=710, min_samples_split=12, min_samples_leaf=19, max_depth=5, total=   2.6s\n",
      "[CV] n_estimators=710, min_samples_split=12, min_samples_leaf=19, max_depth=5 \n",
      "[CV]  n_estimators=710, min_samples_split=12, min_samples_leaf=19, max_depth=5, total=   3.3s\n"
     ]
    },
    {
     "name": "stderr",
     "output_type": "stream",
     "text": [
      "[Parallel(n_jobs=1)]: Done  50 out of  50 | elapsed:  1.0min finished\n"
     ]
    },
    {
     "data": {
      "text/plain": [
       "RandomizedSearchCV(cv=5, error_score=nan,\n",
       "                   estimator=RandomForestClassifier(bootstrap=True,\n",
       "                                                    ccp_alpha=0.0,\n",
       "                                                    class_weight=None,\n",
       "                                                    criterion='gini',\n",
       "                                                    max_depth=None,\n",
       "                                                    max_features='auto',\n",
       "                                                    max_leaf_nodes=None,\n",
       "                                                    max_samples=None,\n",
       "                                                    min_impurity_decrease=0.0,\n",
       "                                                    min_impurity_split=None,\n",
       "                                                    min_samples_leaf=1,\n",
       "                                                    min_samples_split=2,\n",
       "                                                    min_weight_fraction_leaf=0.0,\n",
       "                                                    n_estimators=100,\n",
       "                                                    n_jobs...\n",
       "                   param_distributions={'max_depth': [None, 3, 5, 10],\n",
       "                                        'min_samples_leaf': array([ 1,  3,  5,  7,  9, 11, 13, 15, 17, 19]),\n",
       "                                        'min_samples_split': array([ 2,  4,  6,  8, 10, 12, 14, 16, 18]),\n",
       "                                        'n_estimators': array([ 10,  60, 110, 160, 210, 260, 310, 360, 410, 460, 510, 560, 610,\n",
       "       660, 710, 760, 810, 860, 910, 960])},\n",
       "                   pre_dispatch='2*n_jobs', random_state=None, refit=True,\n",
       "                   return_train_score=False, scoring=None, verbose=2)"
      ]
     },
     "execution_count": 28,
     "metadata": {},
     "output_type": "execute_result"
    }
   ],
   "source": [
    "#Let's tune RandomForestClassifier()\n",
    "np.random.seed(42)\n",
    "rs_ran_reg = RandomizedSearchCV(RandomForestClassifier(),\n",
    "                                rf_grid,\n",
    "                                cv=5,\n",
    "                                verbose=2)\n",
    "rs_ran_reg.fit(X_train,y_train)\n"
   ]
  },
  {
   "cell_type": "code",
   "execution_count": 29,
   "metadata": {},
   "outputs": [
    {
     "data": {
      "text/plain": [
       "{'n_estimators': 310,\n",
       " 'min_samples_split': 2,\n",
       " 'min_samples_leaf': 19,\n",
       " 'max_depth': 5}"
      ]
     },
     "execution_count": 29,
     "metadata": {},
     "output_type": "execute_result"
    }
   ],
   "source": [
    "rs_ran_reg.best_params_"
   ]
  },
  {
   "cell_type": "code",
   "execution_count": 30,
   "metadata": {},
   "outputs": [
    {
     "data": {
      "text/plain": [
       "0.8688524590163934"
      ]
     },
     "execution_count": 30,
     "metadata": {},
     "output_type": "execute_result"
    }
   ],
   "source": [
    "rs_ran_reg.score(X_test,y_test)"
   ]
  },
  {
   "cell_type": "markdown",
   "metadata": {},
   "source": [
    "### Hyperparameter tuning with  GridsearchCV\n",
    "Now we have seen Logistic Regression proves to be the best we'll push it using GridSearchCV"
   ]
  },
  {
   "cell_type": "code",
   "execution_count": 31,
   "metadata": {},
   "outputs": [
    {
     "data": {
      "text/plain": [
       "{'solver': 'liblinear', 'C': 0.23357214690901212}"
      ]
     },
     "execution_count": 31,
     "metadata": {},
     "output_type": "execute_result"
    }
   ],
   "source": [
    "rs_log_reg.best_params_"
   ]
  },
  {
   "cell_type": "code",
   "execution_count": 32,
   "metadata": {},
   "outputs": [
    {
     "name": "stdout",
     "output_type": "stream",
     "text": [
      "Fitting 5 folds for each of 30 candidates, totalling 150 fits\n",
      "[CV] C=0.0001, solver=liblinear ......................................\n",
      "[CV] ....................... C=0.0001, solver=liblinear, total=   0.0s\n",
      "[CV] C=0.0001, solver=liblinear ......................................\n",
      "[CV] ....................... C=0.0001, solver=liblinear, total=   0.0s\n",
      "[CV] C=0.0001, solver=liblinear ......................................\n",
      "[CV] ....................... C=0.0001, solver=liblinear, total=   0.0s\n",
      "[CV] C=0.0001, solver=liblinear ......................................\n",
      "[CV] ....................... C=0.0001, solver=liblinear, total=   0.0s\n",
      "[CV] C=0.0001, solver=liblinear ......................................\n",
      "[CV] ....................... C=0.0001, solver=liblinear, total=   0.0s\n",
      "[CV] C=0.00018873918221350977, solver=liblinear ......................\n",
      "[CV] ....... C=0.00018873918221350977, solver=liblinear, total=   0.0s\n",
      "[CV] C=0.00018873918221350977, solver=liblinear ......................\n",
      "[CV] ....... C=0.00018873918221350977, solver=liblinear, total=   0.0s\n",
      "[CV] C=0.00018873918221350977, solver=liblinear ......................\n",
      "[CV] ....... C=0.00018873918221350977, solver=liblinear, total=   0.0s\n",
      "[CV] C=0.00018873918221350977, solver=liblinear ......................\n",
      "[CV] ....... C=0.00018873918221350977, solver=liblinear, total=   0.0s\n",
      "[CV] C=0.00018873918221350977, solver=liblinear ......................\n",
      "[CV] ....... C=0.00018873918221350977, solver=liblinear, total=   0.0s\n",
      "[CV] C=0.0003562247890262444, solver=liblinear .......................\n",
      "[CV] ........ C=0.0003562247890262444, solver=liblinear, total=   0.0s\n",
      "[CV] C=0.0003562247890262444, solver=liblinear .......................\n",
      "[CV] ........ C=0.0003562247890262444, solver=liblinear, total=   0.0s\n",
      "[CV] C=0.0003562247890262444, solver=liblinear .......................\n",
      "[CV] ........ C=0.0003562247890262444, solver=liblinear, total=   0.0s\n",
      "[CV] C=0.0003562247890262444, solver=liblinear .......................\n",
      "[CV] ........ C=0.0003562247890262444, solver=liblinear, total=   0.0s\n",
      "[CV] C=0.0003562247890262444, solver=liblinear .......................\n",
      "[CV] ........ C=0.0003562247890262444, solver=liblinear, total=   0.0s\n",
      "[CV] C=0.0006723357536499335, solver=liblinear .......................\n",
      "[CV] ........ C=0.0006723357536499335, solver=liblinear, total=   0.0s\n",
      "[CV] C=0.0006723357536499335, solver=liblinear .......................\n",
      "[CV] ........ C=0.0006723357536499335, solver=liblinear, total=   0.0s"
     ]
    },
    {
     "name": "stderr",
     "output_type": "stream",
     "text": [
      "[Parallel(n_jobs=1)]: Using backend SequentialBackend with 1 concurrent workers.\n",
      "[Parallel(n_jobs=1)]: Done   1 out of   1 | elapsed:    0.0s remaining:    0.0s\n"
     ]
    },
    {
     "name": "stdout",
     "output_type": "stream",
     "text": [
      "\n",
      "[CV] C=0.0006723357536499335, solver=liblinear .......................\n",
      "[CV] ........ C=0.0006723357536499335, solver=liblinear, total=   0.0s\n",
      "[CV] C=0.0006723357536499335, solver=liblinear .......................\n",
      "[CV] ........ C=0.0006723357536499335, solver=liblinear, total=   0.0s\n",
      "[CV] C=0.0006723357536499335, solver=liblinear .......................\n",
      "[CV] ........ C=0.0006723357536499335, solver=liblinear, total=   0.0s\n",
      "[CV] C=0.0012689610031679222, solver=liblinear .......................\n",
      "[CV] ........ C=0.0012689610031679222, solver=liblinear, total=   0.0s\n",
      "[CV] C=0.0012689610031679222, solver=liblinear .......................\n",
      "[CV] ........ C=0.0012689610031679222, solver=liblinear, total=   0.0s\n",
      "[CV] C=0.0012689610031679222, solver=liblinear .......................\n",
      "[CV] ........ C=0.0012689610031679222, solver=liblinear, total=   0.0s\n",
      "[CV] C=0.0012689610031679222, solver=liblinear .......................\n",
      "[CV] ........ C=0.0012689610031679222, solver=liblinear, total=   0.0s\n",
      "[CV] C=0.0012689610031679222, solver=liblinear .......................\n",
      "[CV] ........ C=0.0012689610031679222, solver=liblinear, total=   0.0s\n",
      "[CV] C=0.002395026619987486, solver=liblinear ........................\n",
      "[CV] ......... C=0.002395026619987486, solver=liblinear, total=   0.0s\n",
      "[CV] C=0.002395026619987486, solver=liblinear ........................\n",
      "[CV] ......... C=0.002395026619987486, solver=liblinear, total=   0.0s\n",
      "[CV] C=0.002395026619987486, solver=liblinear ........................\n",
      "[CV] ......... C=0.002395026619987486, solver=liblinear, total=   0.0s\n",
      "[CV] C=0.002395026619987486, solver=liblinear ........................\n",
      "[CV] ......... C=0.002395026619987486, solver=liblinear, total=   0.0s\n",
      "[CV] C=0.002395026619987486, solver=liblinear ........................\n",
      "[CV] ......... C=0.002395026619987486, solver=liblinear, total=   0.0s\n",
      "[CV] C=0.004520353656360241, solver=liblinear ........................\n",
      "[CV] ......... C=0.004520353656360241, solver=liblinear, total=   0.0s\n",
      "[CV] C=0.004520353656360241, solver=liblinear ........................\n",
      "[CV] ......... C=0.004520353656360241, solver=liblinear, total=   0.0s\n",
      "[CV] C=0.004520353656360241, solver=liblinear ........................\n",
      "[CV] ......... C=0.004520353656360241, solver=liblinear, total=   0.0s\n",
      "[CV] C=0.004520353656360241, solver=liblinear ........................\n",
      "[CV] ......... C=0.004520353656360241, solver=liblinear, total=   0.0s\n",
      "[CV] C=0.004520353656360241, solver=liblinear ........................\n",
      "[CV] ......... C=0.004520353656360241, solver=liblinear, total=   0.0s\n",
      "[CV] C=0.008531678524172805, solver=liblinear ........................\n",
      "[CV] ......... C=0.008531678524172805, solver=liblinear, total=   0.0s\n",
      "[CV] C=0.008531678524172805, solver=liblinear ........................\n",
      "[CV] ......... C=0.008531678524172805, solver=liblinear, total=   0.0s\n",
      "[CV] C=0.008531678524172805, solver=liblinear ........................\n",
      "[CV] ......... C=0.008531678524172805, solver=liblinear, total=   0.0s\n",
      "[CV] C=0.008531678524172805, solver=liblinear ........................\n",
      "[CV] ......... C=0.008531678524172805, solver=liblinear, total=   0.0s\n",
      "[CV] C=0.008531678524172805, solver=liblinear ........................\n",
      "[CV] ......... C=0.008531678524172805, solver=liblinear, total=   0.0s\n",
      "[CV] C=0.01610262027560939, solver=liblinear .........................\n",
      "[CV] .......... C=0.01610262027560939, solver=liblinear, total=   0.0s\n",
      "[CV] C=0.01610262027560939, solver=liblinear .........................\n",
      "[CV] .......... C=0.01610262027560939, solver=liblinear, total=   0.0s\n",
      "[CV] C=0.01610262027560939, solver=liblinear .........................\n",
      "[CV] .......... C=0.01610262027560939, solver=liblinear, total=   0.0s\n",
      "[CV] C=0.01610262027560939, solver=liblinear .........................\n",
      "[CV] .......... C=0.01610262027560939, solver=liblinear, total=   0.0s\n",
      "[CV] C=0.01610262027560939, solver=liblinear .........................\n",
      "[CV] .......... C=0.01610262027560939, solver=liblinear, total=   0.0s\n",
      "[CV] C=0.03039195382313198, solver=liblinear .........................\n",
      "[CV] .......... C=0.03039195382313198, solver=liblinear, total=   0.0s\n",
      "[CV] C=0.03039195382313198, solver=liblinear .........................\n",
      "[CV] .......... C=0.03039195382313198, solver=liblinear, total=   0.0s\n",
      "[CV] C=0.03039195382313198, solver=liblinear .........................\n",
      "[CV] .......... C=0.03039195382313198, solver=liblinear, total=   0.0s\n",
      "[CV] C=0.03039195382313198, solver=liblinear .........................\n",
      "[CV] .......... C=0.03039195382313198, solver=liblinear, total=   0.0s\n",
      "[CV] C=0.03039195382313198, solver=liblinear .........................\n",
      "[CV] .......... C=0.03039195382313198, solver=liblinear, total=   0.0s\n",
      "[CV] C=0.05736152510448681, solver=liblinear .........................\n",
      "[CV] .......... C=0.05736152510448681, solver=liblinear, total=   0.0s\n",
      "[CV] C=0.05736152510448681, solver=liblinear .........................\n",
      "[CV] .......... C=0.05736152510448681, solver=liblinear, total=   0.0s\n",
      "[CV] C=0.05736152510448681, solver=liblinear .........................\n",
      "[CV] .......... C=0.05736152510448681, solver=liblinear, total=   0.0s\n",
      "[CV] C=0.05736152510448681, solver=liblinear .........................\n",
      "[CV] .......... C=0.05736152510448681, solver=liblinear, total=   0.0s\n",
      "[CV] C=0.05736152510448681, solver=liblinear .........................\n",
      "[CV] .......... C=0.05736152510448681, solver=liblinear, total=   0.0s\n",
      "[CV] C=0.1082636733874054, solver=liblinear ..........................\n",
      "[CV] ........... C=0.1082636733874054, solver=liblinear, total=   0.0s\n",
      "[CV] C=0.1082636733874054, solver=liblinear ..........................\n",
      "[CV] ........... C=0.1082636733874054, solver=liblinear, total=   0.0s\n",
      "[CV] C=0.1082636733874054, solver=liblinear ..........................\n",
      "[CV] ........... C=0.1082636733874054, solver=liblinear, total=   0.0s\n",
      "[CV] C=0.1082636733874054, solver=liblinear ..........................\n",
      "[CV] ........... C=0.1082636733874054, solver=liblinear, total=   0.0s\n",
      "[CV] C=0.1082636733874054, solver=liblinear ..........................\n",
      "[CV] ........... C=0.1082636733874054, solver=liblinear, total=   0.0s\n",
      "[CV] C=0.20433597178569418, solver=liblinear .........................\n",
      "[CV] .......... C=0.20433597178569418, solver=liblinear, total=   0.0s\n",
      "[CV] C=0.20433597178569418, solver=liblinear .........................\n",
      "[CV] .......... C=0.20433597178569418, solver=liblinear, total=   0.0s\n",
      "[CV] C=0.20433597178569418, solver=liblinear .........................\n",
      "[CV] .......... C=0.20433597178569418, solver=liblinear, total=   0.0s\n",
      "[CV] C=0.20433597178569418, solver=liblinear .........................\n",
      "[CV] .......... C=0.20433597178569418, solver=liblinear, total=   0.0s\n",
      "[CV] C=0.20433597178569418, solver=liblinear .........................\n",
      "[CV] .......... C=0.20433597178569418, solver=liblinear, total=   0.0s\n",
      "[CV] C=0.38566204211634725, solver=liblinear .........................\n",
      "[CV] .......... C=0.38566204211634725, solver=liblinear, total=   0.0s\n",
      "[CV] C=0.38566204211634725, solver=liblinear .........................\n",
      "[CV] .......... C=0.38566204211634725, solver=liblinear, total=   0.0s\n",
      "[CV] C=0.38566204211634725, solver=liblinear .........................\n",
      "[CV] .......... C=0.38566204211634725, solver=liblinear, total=   0.0s\n",
      "[CV] C=0.38566204211634725, solver=liblinear .........................\n",
      "[CV] .......... C=0.38566204211634725, solver=liblinear, total=   0.0s\n",
      "[CV] C=0.38566204211634725, solver=liblinear .........................\n",
      "[CV] .......... C=0.38566204211634725, solver=liblinear, total=   0.0s\n",
      "[CV] C=0.7278953843983146, solver=liblinear ..........................\n",
      "[CV] ........... C=0.7278953843983146, solver=liblinear, total=   0.0s\n",
      "[CV] C=0.7278953843983146, solver=liblinear ..........................\n",
      "[CV] ........... C=0.7278953843983146, solver=liblinear, total=   0.0s\n",
      "[CV] C=0.7278953843983146, solver=liblinear ..........................\n",
      "[CV] ........... C=0.7278953843983146, solver=liblinear, total=   0.0s\n",
      "[CV] C=0.7278953843983146, solver=liblinear ..........................\n",
      "[CV] ........... C=0.7278953843983146, solver=liblinear, total=   0.0s\n",
      "[CV] C=0.7278953843983146, solver=liblinear ..........................\n",
      "[CV] ........... C=0.7278953843983146, solver=liblinear, total=   0.0s\n",
      "[CV] C=1.3738237958832638, solver=liblinear ..........................\n",
      "[CV] ........... C=1.3738237958832638, solver=liblinear, total=   0.0s\n",
      "[CV] C=1.3738237958832638, solver=liblinear ..........................\n",
      "[CV] ........... C=1.3738237958832638, solver=liblinear, total=   0.0s\n",
      "[CV] C=1.3738237958832638, solver=liblinear ..........................\n",
      "[CV] ........... C=1.3738237958832638, solver=liblinear, total=   0.0s\n",
      "[CV] C=1.3738237958832638, solver=liblinear ..........................\n",
      "[CV] ........... C=1.3738237958832638, solver=liblinear, total=   0.0s\n",
      "[CV] C=1.3738237958832638, solver=liblinear ..........................\n"
     ]
    },
    {
     "name": "stdout",
     "output_type": "stream",
     "text": [
      "[CV] ........... C=1.3738237958832638, solver=liblinear, total=   0.0s\n",
      "[CV] C=2.592943797404667, solver=liblinear ...........................\n",
      "[CV] ............ C=2.592943797404667, solver=liblinear, total=   0.0s\n",
      "[CV] C=2.592943797404667, solver=liblinear ...........................\n",
      "[CV] ............ C=2.592943797404667, solver=liblinear, total=   0.0s\n",
      "[CV] C=2.592943797404667, solver=liblinear ...........................\n",
      "[CV] ............ C=2.592943797404667, solver=liblinear, total=   0.0s\n",
      "[CV] C=2.592943797404667, solver=liblinear ...........................\n",
      "[CV] ............ C=2.592943797404667, solver=liblinear, total=   0.0s\n",
      "[CV] C=2.592943797404667, solver=liblinear ...........................\n",
      "[CV] ............ C=2.592943797404667, solver=liblinear, total=   0.0s\n",
      "[CV] C=4.893900918477489, solver=liblinear ...........................\n",
      "[CV] ............ C=4.893900918477489, solver=liblinear, total=   0.0s\n",
      "[CV] C=4.893900918477489, solver=liblinear ...........................\n",
      "[CV] ............ C=4.893900918477489, solver=liblinear, total=   0.0s\n",
      "[CV] C=4.893900918477489, solver=liblinear ...........................\n",
      "[CV] ............ C=4.893900918477489, solver=liblinear, total=   0.0s\n",
      "[CV] C=4.893900918477489, solver=liblinear ...........................\n",
      "[CV] ............ C=4.893900918477489, solver=liblinear, total=   0.0s\n",
      "[CV] C=4.893900918477489, solver=liblinear ...........................\n",
      "[CV] ............ C=4.893900918477489, solver=liblinear, total=   0.0s\n",
      "[CV] C=9.236708571873866, solver=liblinear ...........................\n",
      "[CV] ............ C=9.236708571873866, solver=liblinear, total=   0.0s\n",
      "[CV] C=9.236708571873866, solver=liblinear ...........................\n",
      "[CV] ............ C=9.236708571873866, solver=liblinear, total=   0.0s\n",
      "[CV] C=9.236708571873866, solver=liblinear ...........................\n",
      "[CV] ............ C=9.236708571873866, solver=liblinear, total=   0.0s\n",
      "[CV] C=9.236708571873866, solver=liblinear ...........................\n",
      "[CV] ............ C=9.236708571873866, solver=liblinear, total=   0.0s\n",
      "[CV] C=9.236708571873866, solver=liblinear ...........................\n",
      "[CV] ............ C=9.236708571873866, solver=liblinear, total=   0.0s\n",
      "[CV] C=17.433288221999874, solver=liblinear ..........................\n",
      "[CV] ........... C=17.433288221999874, solver=liblinear, total=   0.0s\n",
      "[CV] C=17.433288221999874, solver=liblinear ..........................\n",
      "[CV] ........... C=17.433288221999874, solver=liblinear, total=   0.0s\n",
      "[CV] C=17.433288221999874, solver=liblinear ..........................\n",
      "[CV] ........... C=17.433288221999874, solver=liblinear, total=   0.0s\n",
      "[CV] C=17.433288221999874, solver=liblinear ..........................\n",
      "[CV] ........... C=17.433288221999874, solver=liblinear, total=   0.0s\n",
      "[CV] C=17.433288221999874, solver=liblinear ..........................\n",
      "[CV] ........... C=17.433288221999874, solver=liblinear, total=   0.0s\n",
      "[CV] C=32.90344562312671, solver=liblinear ...........................\n",
      "[CV] ............ C=32.90344562312671, solver=liblinear, total=   0.0s\n",
      "[CV] C=32.90344562312671, solver=liblinear ...........................\n",
      "[CV] ............ C=32.90344562312671, solver=liblinear, total=   0.0s\n",
      "[CV] C=32.90344562312671, solver=liblinear ...........................\n",
      "[CV] ............ C=32.90344562312671, solver=liblinear, total=   0.0s\n",
      "[CV] C=32.90344562312671, solver=liblinear ...........................\n",
      "[CV] ............ C=32.90344562312671, solver=liblinear, total=   0.0s\n",
      "[CV] C=32.90344562312671, solver=liblinear ...........................\n",
      "[CV] ............ C=32.90344562312671, solver=liblinear, total=   0.0s\n",
      "[CV] C=62.10169418915616, solver=liblinear ...........................\n",
      "[CV] ............ C=62.10169418915616, solver=liblinear, total=   0.0s\n",
      "[CV] C=62.10169418915616, solver=liblinear ...........................\n",
      "[CV] ............ C=62.10169418915616, solver=liblinear, total=   0.0s\n",
      "[CV] C=62.10169418915616, solver=liblinear ...........................\n",
      "[CV] ............ C=62.10169418915616, solver=liblinear, total=   0.0s\n",
      "[CV] C=62.10169418915616, solver=liblinear ...........................\n",
      "[CV] ............ C=62.10169418915616, solver=liblinear, total=   0.0s\n",
      "[CV] C=62.10169418915616, solver=liblinear ...........................\n",
      "[CV] ............ C=62.10169418915616, solver=liblinear, total=   0.0s\n",
      "[CV] C=117.21022975334793, solver=liblinear ..........................\n",
      "[CV] ........... C=117.21022975334793, solver=liblinear, total=   0.0s\n",
      "[CV] C=117.21022975334793, solver=liblinear ..........................\n",
      "[CV] ........... C=117.21022975334793, solver=liblinear, total=   0.0s\n",
      "[CV] C=117.21022975334793, solver=liblinear ..........................\n",
      "[CV] ........... C=117.21022975334793, solver=liblinear, total=   0.0s\n",
      "[CV] C=117.21022975334793, solver=liblinear ..........................\n",
      "[CV] ........... C=117.21022975334793, solver=liblinear, total=   0.0s\n",
      "[CV] C=117.21022975334793, solver=liblinear ..........................\n",
      "[CV] ........... C=117.21022975334793, solver=liblinear, total=   0.0s\n",
      "[CV] C=221.22162910704503, solver=liblinear ..........................\n",
      "[CV] ........... C=221.22162910704503, solver=liblinear, total=   0.0s\n",
      "[CV] C=221.22162910704503, solver=liblinear ..........................\n",
      "[CV] ........... C=221.22162910704503, solver=liblinear, total=   0.0s\n",
      "[CV] C=221.22162910704503, solver=liblinear ..........................\n",
      "[CV] ........... C=221.22162910704503, solver=liblinear, total=   0.0s\n",
      "[CV] C=221.22162910704503, solver=liblinear ..........................\n",
      "[CV] ........... C=221.22162910704503, solver=liblinear, total=   0.0s\n",
      "[CV] C=221.22162910704503, solver=liblinear ..........................\n",
      "[CV] ........... C=221.22162910704503, solver=liblinear, total=   0.0s\n",
      "[CV] C=417.53189365604004, solver=liblinear ..........................\n",
      "[CV] ........... C=417.53189365604004, solver=liblinear, total=   0.0s\n",
      "[CV] C=417.53189365604004, solver=liblinear ..........................\n",
      "[CV] ........... C=417.53189365604004, solver=liblinear, total=   0.0s\n",
      "[CV] C=417.53189365604004, solver=liblinear ..........................\n",
      "[CV] ........... C=417.53189365604004, solver=liblinear, total=   0.0s\n",
      "[CV] C=417.53189365604004, solver=liblinear ..........................\n",
      "[CV] ........... C=417.53189365604004, solver=liblinear, total=   0.0s\n",
      "[CV] C=417.53189365604004, solver=liblinear ..........................\n",
      "[CV] ........... C=417.53189365604004, solver=liblinear, total=   0.0s\n",
      "[CV] C=788.0462815669904, solver=liblinear ...........................\n",
      "[CV] ............ C=788.0462815669904, solver=liblinear, total=   0.0s\n",
      "[CV] C=788.0462815669904, solver=liblinear ...........................\n",
      "[CV] ............ C=788.0462815669904, solver=liblinear, total=   0.0s\n",
      "[CV] C=788.0462815669904, solver=liblinear ...........................\n",
      "[CV] ............ C=788.0462815669904, solver=liblinear, total=   0.0s\n",
      "[CV] C=788.0462815669904, solver=liblinear ...........................\n",
      "[CV] ............ C=788.0462815669904, solver=liblinear, total=   0.0s\n",
      "[CV] C=788.0462815669904, solver=liblinear ...........................\n",
      "[CV] ............ C=788.0462815669904, solver=liblinear, total=   0.0s\n",
      "[CV] C=1487.3521072935118, solver=liblinear ..........................\n",
      "[CV] ........... C=1487.3521072935118, solver=liblinear, total=   0.0s\n",
      "[CV] C=1487.3521072935118, solver=liblinear ..........................\n",
      "[CV] ........... C=1487.3521072935118, solver=liblinear, total=   0.0s\n",
      "[CV] C=1487.3521072935118, solver=liblinear ..........................\n",
      "[CV] ........... C=1487.3521072935118, solver=liblinear, total=   0.0s\n",
      "[CV] C=1487.3521072935118, solver=liblinear ..........................\n",
      "[CV] ........... C=1487.3521072935118, solver=liblinear, total=   0.0s\n",
      "[CV] C=1487.3521072935118, solver=liblinear ..........................\n",
      "[CV] ........... C=1487.3521072935118, solver=liblinear, total=   0.0s\n",
      "[CV] C=2807.2162039411755, solver=liblinear ..........................\n",
      "[CV] ........... C=2807.2162039411755, solver=liblinear, total=   0.0s\n",
      "[CV] C=2807.2162039411755, solver=liblinear ..........................\n",
      "[CV] ........... C=2807.2162039411755, solver=liblinear, total=   0.0s\n",
      "[CV] C=2807.2162039411755, solver=liblinear ..........................\n",
      "[CV] ........... C=2807.2162039411755, solver=liblinear, total=   0.0s\n",
      "[CV] C=2807.2162039411755, solver=liblinear ..........................\n",
      "[CV] ........... C=2807.2162039411755, solver=liblinear, total=   0.0s\n",
      "[CV] C=2807.2162039411755, solver=liblinear ..........................\n",
      "[CV] ........... C=2807.2162039411755, solver=liblinear, total=   0.0s\n",
      "[CV] C=5298.316906283702, solver=liblinear ...........................\n"
     ]
    },
    {
     "name": "stdout",
     "output_type": "stream",
     "text": [
      "[CV] ............ C=5298.316906283702, solver=liblinear, total=   0.0s\n",
      "[CV] C=5298.316906283702, solver=liblinear ...........................\n",
      "[CV] ............ C=5298.316906283702, solver=liblinear, total=   0.0s\n",
      "[CV] C=5298.316906283702, solver=liblinear ...........................\n",
      "[CV] ............ C=5298.316906283702, solver=liblinear, total=   0.0s\n",
      "[CV] C=5298.316906283702, solver=liblinear ...........................\n",
      "[CV] ............ C=5298.316906283702, solver=liblinear, total=   0.0s\n",
      "[CV] C=5298.316906283702, solver=liblinear ...........................\n",
      "[CV] ............ C=5298.316906283702, solver=liblinear, total=   0.0s\n",
      "[CV] C=10000.0, solver=liblinear .....................................\n",
      "[CV] ...................... C=10000.0, solver=liblinear, total=   0.0s\n",
      "[CV] C=10000.0, solver=liblinear .....................................\n",
      "[CV] ...................... C=10000.0, solver=liblinear, total=   0.0s\n",
      "[CV] C=10000.0, solver=liblinear .....................................\n",
      "[CV] ...................... C=10000.0, solver=liblinear, total=   0.0s\n",
      "[CV] C=10000.0, solver=liblinear .....................................\n",
      "[CV] ...................... C=10000.0, solver=liblinear, total=   0.0s\n",
      "[CV] C=10000.0, solver=liblinear .....................................\n",
      "[CV] ...................... C=10000.0, solver=liblinear, total=   0.0s\n"
     ]
    },
    {
     "name": "stderr",
     "output_type": "stream",
     "text": [
      "[Parallel(n_jobs=1)]: Done 150 out of 150 | elapsed:    2.1s finished\n"
     ]
    },
    {
     "data": {
      "text/plain": [
       "GridSearchCV(cv=5, error_score=nan,\n",
       "             estimator=LogisticRegression(C=1.0, class_weight=None, dual=False,\n",
       "                                          fit_intercept=True,\n",
       "                                          intercept_scaling=1, l1_ratio=None,\n",
       "                                          max_iter=100, multi_class='auto',\n",
       "                                          n_jobs=None, penalty='l2',\n",
       "                                          random_state=None, solver='lbfgs',\n",
       "                                          tol=0.0001, verbose=0,\n",
       "                                          warm_start=False),\n",
       "             iid='deprecated', n_jobs=None,\n",
       "             param_grid={'C': array([1.00000000e-04, 1.8...\n",
       "       2.04335972e-01, 3.85662042e-01, 7.27895384e-01, 1.37382380e+00,\n",
       "       2.59294380e+00, 4.89390092e+00, 9.23670857e+00, 1.74332882e+01,\n",
       "       3.29034456e+01, 6.21016942e+01, 1.17210230e+02, 2.21221629e+02,\n",
       "       4.17531894e+02, 7.88046282e+02, 1.48735211e+03, 2.80721620e+03,\n",
       "       5.29831691e+03, 1.00000000e+04]),\n",
       "                         'solver': ['liblinear']},\n",
       "             pre_dispatch='2*n_jobs', refit=True, return_train_score=False,\n",
       "             scoring=None, verbose=2)"
      ]
     },
     "execution_count": 32,
     "metadata": {},
     "output_type": "execute_result"
    }
   ],
   "source": [
    "#Different parameters for our Logistlic Regression Model \n",
    "log_reg_grid = {\"C\": np.logspace(-4, 4, 30),\n",
    "              \"solver\":[\"liblinear\"],\n",
    "              }\n",
    "\n",
    "#Setup Hyperparameter Search for our Model\n",
    "gs_log_reg = GridSearchCV(LogisticRegression(),\n",
    "                          log_reg_grid,\n",
    "                          cv=5,\n",
    "                          verbose=2)\n",
    "\n",
    "#Fit the Model \n",
    "gs_log_reg.fit(X_train,y_train)\n",
    "                          \n"
   ]
  },
  {
   "cell_type": "code",
   "execution_count": 33,
   "metadata": {},
   "outputs": [
    {
     "data": {
      "text/plain": [
       "{'C': 0.20433597178569418, 'solver': 'liblinear'}"
      ]
     },
     "execution_count": 33,
     "metadata": {},
     "output_type": "execute_result"
    }
   ],
   "source": [
    "gs_log_reg.best_params_"
   ]
  },
  {
   "cell_type": "code",
   "execution_count": 34,
   "metadata": {},
   "outputs": [
    {
     "data": {
      "text/plain": [
       "0.8852459016393442"
      ]
     },
     "execution_count": 34,
     "metadata": {},
     "output_type": "execute_result"
    }
   ],
   "source": [
    "gs_log_reg.score(X_test,y_test)"
   ]
  },
  {
   "cell_type": "markdown",
   "metadata": {},
   "source": [
    "### Evaluating our tuned ML model , beyond Accuracy\n",
    "\n",
    "* Classsifiction_report\n",
    "2. Precision\n",
    "3. Recall\n",
    "4. F1 score\n",
    "5. ROC curve\n",
    "6. AUC\n",
    "7. Confusion Matrix\n",
    "\n",
    "    > all this probably using with Cross-Validation"
   ]
  },
  {
   "cell_type": "code",
   "execution_count": 35,
   "metadata": {},
   "outputs": [],
   "source": [
    "#Make the predictions\n",
    "y_preds = gs_log_reg.predict(X_test)"
   ]
  },
  {
   "cell_type": "code",
   "execution_count": 36,
   "metadata": {},
   "outputs": [
    {
     "data": {
      "text/plain": [
       "array([0, 1, 1, 0, 1, 1, 1, 0, 0, 1, 1, 0, 1, 0, 1, 1, 1, 0, 0, 0, 1, 0,\n",
       "       0, 1, 1, 1, 1, 1, 0, 1, 0, 0, 0, 0, 1, 0, 1, 1, 1, 1, 1, 1, 1, 1,\n",
       "       1, 0, 1, 1, 0, 0, 0, 0, 1, 1, 0, 0, 0, 1, 0, 0, 0], dtype=int64)"
      ]
     },
     "execution_count": 36,
     "metadata": {},
     "output_type": "execute_result"
    }
   ],
   "source": [
    "y_preds"
   ]
  },
  {
   "cell_type": "code",
   "execution_count": 37,
   "metadata": {},
   "outputs": [
    {
     "data": {
      "image/png": "[encoded data removed]",
      "text/plain": [
       "<Figure size 432x288 with 1 Axes>"
      ]
     },
     "metadata": {
      "needs_background": "light"
     },
     "output_type": "display_data"
    }
   ],
   "source": [
    "#Plot ROC curve\n",
    "plot_roc_curve(gs_log_reg,X_test,y_test);"
   ]
  },
  {
   "cell_type": "code",
   "execution_count": 38,
   "metadata": {},
   "outputs": [
    {
     "name": "stdout",
     "output_type": "stream",
     "text": [
      "[[25  4]\n",
      " [ 3 29]]\n"
     ]
    }
   ],
   "source": [
    "#Confusion Matrix\n",
    "print(confusion_matrix(y_test,y_preds))"
   ]
  },
  {
   "cell_type": "code",
   "execution_count": 39,
   "metadata": {},
   "outputs": [
    {
     "data": {
      "image/png": "[encoded data removed]",
      "text/plain": [
       "<Figure size 360x360 with 1 Axes>"
      ]
     },
     "metadata": {},
     "output_type": "display_data"
    }
   ],
   "source": [
    "#let's visualize using seabornmap\n",
    "sns.set(font_scale=1.5)\n",
    "def plot_conf(y_test,y_preds):\n",
    "    \"\"\"\n",
    "    Plots a nice Looking confusion Matrix\n",
    "    \"\"\"\n",
    "    fig, ax = plt.subplots(figsize=(5,5))\n",
    "    ax = sns.heatmap(confusion_matrix(y_test,y_preds),\n",
    "                     annot = True,\n",
    "                     cbar = False)\n",
    "    plt.xlabel(\"True Label\")\n",
    "    plt.ylabel(\"Predicted label\")\n",
    "    \n",
    "plot_conf(y_test,y_preds)"
   ]
  },
  {
   "cell_type": "code",
   "execution_count": 40,
   "metadata": {},
   "outputs": [
    {
     "name": "stdout",
     "output_type": "stream",
     "text": [
      "              precision    recall  f1-score   support\n",
      "\n",
      "           0       0.89      0.86      0.88        29\n",
      "           1       0.88      0.91      0.89        32\n",
      "\n",
      "    accuracy                           0.89        61\n",
      "   macro avg       0.89      0.88      0.88        61\n",
      "weighted avg       0.89      0.89      0.89        61\n",
      "\n"
     ]
    }
   ],
   "source": [
    "#Classification Report\n",
    "print(classification_report(y_test,y_preds))"
   ]
  },
  {
   "cell_type": "markdown",
   "metadata": {},
   "source": [
    "### Calculate cross - validation using cross_val _score\n"
   ]
  },
  {
   "cell_type": "code",
   "execution_count": 41,
   "metadata": {},
   "outputs": [
    {
     "data": {
      "text/plain": [
       "{'C': 0.20433597178569418, 'solver': 'liblinear'}"
      ]
     },
     "execution_count": 41,
     "metadata": {},
     "output_type": "execute_result"
    }
   ],
   "source": [
    "gs_log_reg.best_params_"
   ]
  },
  {
   "cell_type": "code",
   "execution_count": 42,
   "metadata": {},
   "outputs": [],
   "source": [
    "scores = ['accuracy', 'precision',  'recall', 'f1'] \n",
    "cv_scoring = []"
   ]
  },
  {
   "cell_type": "code",
   "execution_count": 43,
   "metadata": {},
   "outputs": [],
   "source": [
    "clf = LogisticRegression(C= 0.20433597178569418, \n",
    "                         solver= 'liblinear')\n",
    "def scoring(scores):\n",
    "    \"\"\"\n",
    "    This function gives different scoring parameters mean result\n",
    "    \"\"\"\n",
    "    for score in scores:\n",
    "        cv_scoring.append(np.mean(cross_val_score(clf, \n",
    "                X_train,\n",
    "                y_train,\n",
    "                cv=5,\n",
    "                scoring=score,\n",
    "                verbose=True\n",
    "                )))\n",
    "    print(f\"Scoring parameters \\n Accuracy : {cv_scoring[0]*100:.2f}% \\n Precision : {cv_scoring[1]*100:.2f}% \\n Recall : {cv_scoring[2]*100:.2f}% \\n F1-Score : {cv_scoring[3]*100:.2f}%\")\n",
    "          \n",
    "          \n",
    "          \n",
    "          \n",
    "         \n",
    "        \n",
    " \n",
    "\n",
    "\n",
    "    \n",
    "    \n"
   ]
  },
  {
   "cell_type": "code",
   "execution_count": 44,
   "metadata": {},
   "outputs": [
    {
     "name": "stderr",
     "output_type": "stream",
     "text": [
      "[Parallel(n_jobs=1)]: Using backend SequentialBackend with 1 concurrent workers.\n",
      "[Parallel(n_jobs=1)]: Done   5 out of   5 | elapsed:    0.0s finished\n",
      "[Parallel(n_jobs=1)]: Using backend SequentialBackend with 1 concurrent workers.\n",
      "[Parallel(n_jobs=1)]: Done   5 out of   5 | elapsed:    0.0s finished\n",
      "[Parallel(n_jobs=1)]: Using backend SequentialBackend with 1 concurrent workers.\n"
     ]
    },
    {
     "name": "stdout",
     "output_type": "stream",
     "text": [
      "Scoring parameters \n",
      " Accuracy : 83.05% \n",
      " Precision : 81.57% \n",
      " Recall : 89.46% \n",
      " F1-Score : 85.28%\n"
     ]
    },
    {
     "name": "stderr",
     "output_type": "stream",
     "text": [
      "[Parallel(n_jobs=1)]: Done   5 out of   5 | elapsed:    0.0s finished\n",
      "[Parallel(n_jobs=1)]: Using backend SequentialBackend with 1 concurrent workers.\n",
      "[Parallel(n_jobs=1)]: Done   5 out of   5 | elapsed:    0.0s finished\n"
     ]
    }
   ],
   "source": [
    "scoring(scores)"
   ]
  },
  {
   "cell_type": "code",
   "execution_count": 45,
   "metadata": {},
   "outputs": [
    {
     "data": {
      "image/png": "[encoded data removed]",
      "text/plain": [
       "<Figure size 432x288 with 1 Axes>"
      ]
     },
     "metadata": {},
     "output_type": "display_data"
    }
   ],
   "source": [
    "#Let's visualize our scoring paraameters\n",
    "cv_bar = pd.DataFrame({\"Accuracy\":cv_scoring[0], \n",
    "                       \"Precision\": cv_scoring[1], \n",
    "                       \"Recall\": cv_scoring[2], \n",
    "                       \"F!-score\": cv_scoring[3]},\n",
    "                      index=[0]\n",
    "                      )\n",
    "\n",
    "cv_bar.T.plot.bar(title=\"Cross_validation classification Metrics\",legend=False);"
   ]
  },
  {
   "cell_type": "markdown",
   "metadata": {},
   "source": [
    "### Feature importance\n",
    "Feature Importance is another way of asking which feature contributed the most for the outcome of our model and How did they contribute?\n"
   ]
  },
  {
   "cell_type": "code",
   "execution_count": 50,
   "metadata": {},
   "outputs": [],
   "source": [
    "# fit the model \n",
    "clf = LogisticRegression(C=0.20433597178569418, \n",
    "                          solver='liblinear')\n",
    "clf.fit(X_train,y_train);"
   ]
  },
  {
   "cell_type": "code",
   "execution_count": 51,
   "metadata": {},
   "outputs": [
    {
     "data": {
      "text/plain": [
       "array([[ 0.00316728, -0.86044655,  0.66067042, -0.01156993, -0.00166374,\n",
       "         0.04386109,  0.31275847,  0.02459361, -0.60413083, -0.56862804,\n",
       "         0.4505163 , -0.63609898, -0.67663378]])"
      ]
     },
     "execution_count": 51,
     "metadata": {},
     "output_type": "execute_result"
    }
   ],
   "source": [
    "clf.coef_"
   ]
  },
  {
   "cell_type": "code",
   "execution_count": 72,
   "metadata": {},
   "outputs": [
    {
     "data": {
      "image/png": "[encoded data removed]",
      "text/plain": [
       "<Figure size 432x288 with 1 Axes>"
      ]
     },
     "metadata": {},
     "output_type": "display_data"
    }
   ],
   "source": [
    "feature_dict = dict(zip(df.columns,list(clf.coef_[0])))\n",
    "\n",
    "\n",
    "#Let's visualize this\n",
    "feature_df = pd.DataFrame(feature_dict,index=[0])\n",
    "feature_df.T.plot.bar(title=\"Feature Importance\",legend=False);"
   ]
  },
  {
   "cell_type": "code",
   "execution_count": null,
   "metadata": {},
   "outputs": [],
   "source": []
  },
  {
   "cell_type": "code",
   "execution_count": null,
   "metadata": {},
   "outputs": [],
   "source": []
  }
 ],
 "metadata": {
  "kernelspec": {
   "display_name": "Python 3",
   "language": "python",
   "name": "python3"
  },
  "language_info": {
   "codemirror_mode": {
    "name": "ipython",
    "version": 3
   },
   "file_extension": ".py",
   "mimetype": "text/x-python",
   "name": "python",
   "nbconvert_exporter": "python",
   "pygments_lexer": "ipython3",
   "version": "3.7.6"
  },
  "widgets": {
   "application/vnd.jupyter.widget-state+json": {
    "state": {},
    "version_major": 2,
    "version_minor": 0
   }
  }
 },
 "nbformat": 4,
 "nbformat_minor": 4
}
